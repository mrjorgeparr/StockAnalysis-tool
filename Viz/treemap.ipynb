{
 "cells": [
  {
   "cell_type": "code",
   "execution_count": 1,
   "metadata": {},
   "outputs": [],
   "source": [
    "import matplotlib.pyplot as plt\n",
    "import os\n",
    "import pandas as pd\n",
    "import numpy as np\n",
    "import plotly.express as px"
   ]
  },
  {
   "cell_type": "code",
   "execution_count": 2,
   "metadata": {},
   "outputs": [
    {
     "data": {
      "text/html": [
       "<div>\n",
       "<style scoped>\n",
       "    .dataframe tbody tr th:only-of-type {\n",
       "        vertical-align: middle;\n",
       "    }\n",
       "\n",
       "    .dataframe tbody tr th {\n",
       "        vertical-align: top;\n",
       "    }\n",
       "\n",
       "    .dataframe thead th {\n",
       "        text-align: right;\n",
       "    }\n",
       "</style>\n",
       "<table border=\"1\" class=\"dataframe\">\n",
       "  <thead>\n",
       "    <tr style=\"text-align: right;\">\n",
       "      <th></th>\n",
       "      <th>Ticker</th>\n",
       "      <th>Close</th>\n",
       "    </tr>\n",
       "  </thead>\n",
       "  <tbody>\n",
       "    <tr>\n",
       "      <th>0</th>\n",
       "      <td>ADBE</td>\n",
       "      <td>633.66</td>\n",
       "    </tr>\n",
       "    <tr>\n",
       "      <th>64</th>\n",
       "      <td>ADP</td>\n",
       "      <td>236.68</td>\n",
       "    </tr>\n",
       "    <tr>\n",
       "      <th>128</th>\n",
       "      <td>ABNB</td>\n",
       "      <td>140.55</td>\n",
       "    </tr>\n",
       "    <tr>\n",
       "      <th>192</th>\n",
       "      <td>ALGN</td>\n",
       "      <td>217.47</td>\n",
       "    </tr>\n",
       "    <tr>\n",
       "      <th>256</th>\n",
       "      <td>GOOGL</td>\n",
       "      <td>132.52</td>\n",
       "    </tr>\n",
       "  </tbody>\n",
       "</table>\n",
       "</div>"
      ],
      "text/plain": [
       "    Ticker   Close\n",
       "0     ADBE  633.66\n",
       "64     ADP  236.68\n",
       "128   ABNB  140.55\n",
       "192   ALGN  217.47\n",
       "256  GOOGL  132.52"
      ]
     },
     "execution_count": 2,
     "metadata": {},
     "output_type": "execute_result"
    }
   ],
   "source": [
    "df = pd.read_csv('../Dataset/data_historic_tmp.csv')\n",
    "df['Date'] = pd.to_datetime(df['Date'])\n",
    "most_recent_date = df['Date'].max()\n",
    "subset = df[df['Date'] == most_recent_date][['Ticker', 'Close']]\n",
    "subset.head()"
   ]
  },
  {
   "cell_type": "code",
   "execution_count": 3,
   "metadata": {},
   "outputs": [
    {
     "data": {
      "text/html": [
       "<div>\n",
       "<style scoped>\n",
       "    .dataframe tbody tr th:only-of-type {\n",
       "        vertical-align: middle;\n",
       "    }\n",
       "\n",
       "    .dataframe tbody tr th {\n",
       "        vertical-align: top;\n",
       "    }\n",
       "\n",
       "    .dataframe thead th {\n",
       "        text-align: right;\n",
       "    }\n",
       "</style>\n",
       "<table border=\"1\" class=\"dataframe\">\n",
       "  <thead>\n",
       "    <tr style=\"text-align: right;\">\n",
       "      <th></th>\n",
       "      <th>Ticker</th>\n",
       "      <th>Sector</th>\n",
       "      <th>Stock_Price</th>\n",
       "      <th>Market_Cap</th>\n",
       "    </tr>\n",
       "  </thead>\n",
       "  <tbody>\n",
       "    <tr>\n",
       "      <th>0</th>\n",
       "      <td>ADBE</td>\n",
       "      <td>Information Technology</td>\n",
       "      <td>624.34</td>\n",
       "      <td>2.885100e+11</td>\n",
       "    </tr>\n",
       "    <tr>\n",
       "      <th>1</th>\n",
       "      <td>ADP</td>\n",
       "      <td>Industrials</td>\n",
       "      <td>236.49</td>\n",
       "      <td>9.735000e+10</td>\n",
       "    </tr>\n",
       "    <tr>\n",
       "      <th>2</th>\n",
       "      <td>ABNB</td>\n",
       "      <td>Consumer Discretionary</td>\n",
       "      <td>142.09</td>\n",
       "      <td>9.008000e+10</td>\n",
       "    </tr>\n",
       "    <tr>\n",
       "      <th>3</th>\n",
       "      <td>ALGN</td>\n",
       "      <td>Health Care</td>\n",
       "      <td>221.48</td>\n",
       "      <td>1.666000e+10</td>\n",
       "    </tr>\n",
       "    <tr>\n",
       "      <th>4</th>\n",
       "      <td>GOOGL</td>\n",
       "      <td>Communication Services</td>\n",
       "      <td>132.73</td>\n",
       "      <td>NaN</td>\n",
       "    </tr>\n",
       "  </tbody>\n",
       "</table>\n",
       "</div>"
      ],
      "text/plain": [
       "  Ticker                  Sector  Stock_Price    Market_Cap\n",
       "0   ADBE  Information Technology       624.34  2.885100e+11\n",
       "1    ADP             Industrials       236.49  9.735000e+10\n",
       "2   ABNB  Consumer Discretionary       142.09  9.008000e+10\n",
       "3   ALGN             Health Care       221.48  1.666000e+10\n",
       "4  GOOGL  Communication Services       132.73           NaN"
      ]
     },
     "execution_count": 3,
     "metadata": {},
     "output_type": "execute_result"
    }
   ],
   "source": [
    "\n",
    "df2 = pd.read_csv(\"../Dataset/data_tmp.csv\")\n",
    "subset2 = df2[['Ticker','Sector', 'Stock_Price', 'Market_Cap']]\n",
    "subset2.head()"
   ]
  },
  {
   "cell_type": "code",
   "execution_count": 4,
   "metadata": {},
   "outputs": [
    {
     "name": "stdout",
     "output_type": "stream",
     "text": [
      "    Ticker                  Sector  Stock_Price    Market_Cap   Close\n",
      "0     ADBE  Information Technology       624.34  2.885100e+11  633.66\n",
      "1      ADP             Industrials       236.49  9.735000e+10  236.68\n",
      "2     ABNB  Consumer Discretionary       142.09  9.008000e+10  140.55\n",
      "3     ALGN             Health Care       221.48  1.666000e+10  217.47\n",
      "4    GOOGL  Communication Services       132.73           NaN  132.52\n",
      "..     ...                     ...          ...           ...     ...\n",
      "96     WBD  Communication Services        11.16  2.739000e+10   11.23\n",
      "97    WDAY  Information Technology       276.01  7.279000e+10  276.75\n",
      "98     XEL               Utilities        61.86  3.375000e+10   61.16\n",
      "99      ZM  Information Technology        69.68  2.170000e+10   71.28\n",
      "100     ZS  Information Technology       211.74  3.126000e+10  210.76\n",
      "\n",
      "[101 rows x 5 columns]\n"
     ]
    },
    {
     "name": "stderr",
     "output_type": "stream",
     "text": [
      "/tmp/ipykernel_433295/370207239.py:19: SettingWithCopyWarning: \n",
      "A value is trying to be set on a copy of a slice from a DataFrame.\n",
      "Try using .loc[row_indexer,col_indexer] = value instead\n",
      "\n",
      "See the caveats in the documentation: https://pandas.pydata.org/pandas-docs/stable/user_guide/indexing.html#returning-a-view-versus-a-copy\n",
      "  subset2.loc[matching_rows.index, 'Close'] = close_value\n"
     ]
    }
   ],
   "source": [
    "import pandas as pd\n",
    "\n",
    "# Assuming you have two DataFrames: subset and subset2\n",
    "\n",
    "# Iterate through each row in subset DataFrame\n",
    "for index, row in subset.iterrows():\n",
    "    # Find the value in 'Ticker' column of subset\n",
    "    ticker_value = row['Ticker']\n",
    "    \n",
    "    # Find matching rows in subset2 based on 'Ticker' column\n",
    "    matching_rows = subset2[subset2['Ticker'] == ticker_value]\n",
    "    \n",
    "    # If there is a match, update 'Close' column in subset2\n",
    "    if not matching_rows.empty:\n",
    "        # Assuming there's only one matching row, you can take the first one\n",
    "        close_value = row['Close']\n",
    "        \n",
    "        # Update 'Close' column in subset2 with the found 'Close' value from subset\n",
    "        subset2.loc[matching_rows.index, 'Close'] = close_value\n",
    "\n",
    "# Display subset2 after updating 'Close' column\n",
    "print(subset2)\n"
   ]
  },
  {
   "cell_type": "code",
   "execution_count": 5,
   "metadata": {},
   "outputs": [
    {
     "name": "stderr",
     "output_type": "stream",
     "text": [
      "/tmp/ipykernel_433295/3385783359.py:2: SettingWithCopyWarning: \n",
      "A value is trying to be set on a copy of a slice from a DataFrame.\n",
      "Try using .loc[row_indexer,col_indexer] = value instead\n",
      "\n",
      "See the caveats in the documentation: https://pandas.pydata.org/pandas-docs/stable/user_guide/indexing.html#returning-a-view-versus-a-copy\n",
      "  subset2['Delta'] = subset2['Stock_Price'] - subset2['Close']\n",
      "/tmp/ipykernel_433295/3385783359.py:5: SettingWithCopyWarning: \n",
      "A value is trying to be set on a copy of a slice from a DataFrame.\n",
      "Try using .loc[row_indexer,col_indexer] = value instead\n",
      "\n",
      "See the caveats in the documentation: https://pandas.pydata.org/pandas-docs/stable/user_guide/indexing.html#returning-a-view-versus-a-copy\n",
      "  subset2['Change'] = (subset2['Delta'] / subset2['Close']) * 100\n"
     ]
    },
    {
     "data": {
      "text/html": [
       "<div>\n",
       "<style scoped>\n",
       "    .dataframe tbody tr th:only-of-type {\n",
       "        vertical-align: middle;\n",
       "    }\n",
       "\n",
       "    .dataframe tbody tr th {\n",
       "        vertical-align: top;\n",
       "    }\n",
       "\n",
       "    .dataframe thead th {\n",
       "        text-align: right;\n",
       "    }\n",
       "</style>\n",
       "<table border=\"1\" class=\"dataframe\">\n",
       "  <thead>\n",
       "    <tr style=\"text-align: right;\">\n",
       "      <th></th>\n",
       "      <th>Ticker</th>\n",
       "      <th>Sector</th>\n",
       "      <th>Stock_Price</th>\n",
       "      <th>Market_Cap</th>\n",
       "      <th>Close</th>\n",
       "      <th>Delta</th>\n",
       "      <th>Change</th>\n",
       "    </tr>\n",
       "  </thead>\n",
       "  <tbody>\n",
       "    <tr>\n",
       "      <th>0</th>\n",
       "      <td>ADBE</td>\n",
       "      <td>Information Technology</td>\n",
       "      <td>624.34</td>\n",
       "      <td>2.885100e+11</td>\n",
       "      <td>633.66</td>\n",
       "      <td>-9.32</td>\n",
       "      <td>-1.470820</td>\n",
       "    </tr>\n",
       "    <tr>\n",
       "      <th>1</th>\n",
       "      <td>ADP</td>\n",
       "      <td>Industrials</td>\n",
       "      <td>236.49</td>\n",
       "      <td>9.735000e+10</td>\n",
       "      <td>236.68</td>\n",
       "      <td>-0.19</td>\n",
       "      <td>-0.080277</td>\n",
       "    </tr>\n",
       "    <tr>\n",
       "      <th>2</th>\n",
       "      <td>ABNB</td>\n",
       "      <td>Consumer Discretionary</td>\n",
       "      <td>142.09</td>\n",
       "      <td>9.008000e+10</td>\n",
       "      <td>140.55</td>\n",
       "      <td>1.54</td>\n",
       "      <td>1.095695</td>\n",
       "    </tr>\n",
       "    <tr>\n",
       "      <th>3</th>\n",
       "      <td>ALGN</td>\n",
       "      <td>Health Care</td>\n",
       "      <td>221.48</td>\n",
       "      <td>1.666000e+10</td>\n",
       "      <td>217.47</td>\n",
       "      <td>4.01</td>\n",
       "      <td>1.843932</td>\n",
       "    </tr>\n",
       "    <tr>\n",
       "      <th>4</th>\n",
       "      <td>GOOGL</td>\n",
       "      <td>Communication Services</td>\n",
       "      <td>132.73</td>\n",
       "      <td>NaN</td>\n",
       "      <td>132.52</td>\n",
       "      <td>0.21</td>\n",
       "      <td>0.158467</td>\n",
       "    </tr>\n",
       "  </tbody>\n",
       "</table>\n",
       "</div>"
      ],
      "text/plain": [
       "  Ticker                  Sector  Stock_Price    Market_Cap   Close  Delta  \\\n",
       "0   ADBE  Information Technology       624.34  2.885100e+11  633.66  -9.32   \n",
       "1    ADP             Industrials       236.49  9.735000e+10  236.68  -0.19   \n",
       "2   ABNB  Consumer Discretionary       142.09  9.008000e+10  140.55   1.54   \n",
       "3   ALGN             Health Care       221.48  1.666000e+10  217.47   4.01   \n",
       "4  GOOGL  Communication Services       132.73           NaN  132.52   0.21   \n",
       "\n",
       "     Change  \n",
       "0 -1.470820  \n",
       "1 -0.080277  \n",
       "2  1.095695  \n",
       "3  1.843932  \n",
       "4  0.158467  "
      ]
     },
     "execution_count": 5,
     "metadata": {},
     "output_type": "execute_result"
    }
   ],
   "source": [
    "# Create 'delta' column\n",
    "subset2['Delta'] = subset2['Stock_Price'] - subset2['Close']\n",
    "\n",
    "# Create 'Change' column as percentage change\n",
    "subset2['Change'] = (subset2['Delta'] / subset2['Close']) * 100\n",
    "\n",
    "subset2.head()"
   ]
  },
  {
   "cell_type": "code",
   "execution_count": 23,
   "metadata": {},
   "outputs": [
    {
     "name": "stderr",
     "output_type": "stream",
     "text": [
      "/tmp/ipykernel_433295/1725054009.py:2: SettingWithCopyWarning:\n",
      "\n",
      "\n",
      "A value is trying to be set on a copy of a slice from a DataFrame.\n",
      "Try using .loc[row_indexer,col_indexer] = value instead\n",
      "\n",
      "See the caveats in the documentation: https://pandas.pydata.org/pandas-docs/stable/user_guide/indexing.html#returning-a-view-versus-a-copy\n",
      "\n",
      "/tmp/ipykernel_433295/1725054009.py:4: SettingWithCopyWarning:\n",
      "\n",
      "\n",
      "A value is trying to be set on a copy of a slice from a DataFrame.\n",
      "Try using .loc[row_indexer,col_indexer] = value instead\n",
      "\n",
      "See the caveats in the documentation: https://pandas.pydata.org/pandas-docs/stable/user_guide/indexing.html#returning-a-view-versus-a-copy\n",
      "\n"
     ]
    },
    {
     "data": {
      "application/vnd.plotly.v1+json": {
       "config": {
        "plotlyServerURL": "https://plot.ly"
       },
       "data": [
        {
         "branchvalues": "total",
         "customdata": [
          [
           0.004999999999999893,
           "lightgreen"
          ],
          [
           0.9800000000000182,
           "green"
          ],
          [
           4.6200000000000045,
           null
          ],
          [
           0.9500000000000455,
           "green"
          ],
          [
           -0.6899999999999977,
           "red"
          ],
          [
           4.6200000000000045,
           null
          ],
          [
           9.819999999999993,
           null
          ],
          [
           0.6000000000000085,
           "green"
          ],
          [
           -4.050000000000011,
           null
          ],
          [
           -2.839999999999989,
           null
          ],
          [
           0.480000000000004,
           "green"
          ],
          [
           0.8999999999999773,
           "green"
          ],
          [
           -0.39000000000000057,
           "red"
          ],
          [
           0.7999999999999972,
           "green"
          ],
          [
           0.4700000000000131,
           "green"
          ],
          [
           0.44000000000002615,
           "green"
          ],
          [
           0.20999999999997954,
           "green"
          ],
          [
           3.9300000000000637,
           null
          ],
          [
           0.6899999999999977,
           "green"
          ],
          [
           0.4399999999999977,
           "green"
          ],
          [
           -0.4299999999999997,
           "red"
          ],
          [
           0.07000000000000028,
           "green"
          ],
          [
           0.7000000000000028,
           "green"
          ],
          [
           0.240000000000002,
           "green"
          ],
          [
           -0.18999999999999773,
           "red"
          ],
          [
           0.6599999999999966,
           "green"
          ],
          [
           0.6700000000000017,
           "green"
          ],
          [
           -1.2800000000000011,
           null
          ],
          [
           -0.09000000000000341,
           "red"
          ],
          [
           0.6900000000000119,
           "green"
          ],
          [
           0.8200000000000216,
           "green"
          ],
          [
           0,
           "gray"
          ],
          [
           0.04999999999998295,
           "green"
          ],
          [
           -0.8599999999999994,
           "red"
          ],
          [
           20.4699999999998,
           null
          ],
          [
           -7.239999999999952,
           null
          ],
          [
           0.18000000000000682,
           "green"
          ],
          [
           -2,
           null
          ],
          [
           -1.5699999999999932,
           null
          ],
          [
           -0.3499999999999943,
           "red"
          ],
          [
           -0.6700000000000017,
           "red"
          ],
          [
           33.35999999999996,
           null
          ],
          [
           8.730000000000018,
           null
          ],
          [
           6.430000000000007,
           null
          ],
          [
           0.660000000000025,
           "green"
          ],
          [
           -27.080000000000155,
           null
          ],
          [
           2.359999999999985,
           null
          ],
          [
           0.4299999999999926,
           "green"
          ],
          [
           -5.609999999999985,
           null
          ],
          [
           -0.08999999999997499,
           "red"
          ],
          [
           -1.4799999999999898,
           null
          ],
          [
           5.72999999999999,
           null
          ],
          [
           -0.1599999999999966,
           "red"
          ],
          [
           0.5499999999999972,
           "green"
          ],
          [
           1.5300000000000011,
           null
          ],
          [
           -0.4299999999999997,
           "red"
          ],
          [
           -9.319999999999936,
           null
          ],
          [
           -0.5699999999999932,
           "red"
          ],
          [
           -0.0700000000000216,
           "red"
          ],
          [
           0.45000000000001705,
           "green"
          ],
          [
           -3.590000000000032,
           null
          ],
          [
           2.7900000000000773,
           null
          ],
          [
           13.829999999999927,
           null
          ],
          [
           1.2700000000000031,
           null
          ],
          [
           4.810000000000002,
           null
          ],
          [
           -1.3000000000000114,
           null
          ],
          [
           -0.28000000000000114,
           "red"
          ],
          [
           2.420000000000016,
           null
          ],
          [
           0.14000000000000057,
           "green"
          ],
          [
           0.25,
           "green"
          ],
          [
           5.1299999999999955,
           null
          ],
          [
           0.060000000000002274,
           "green"
          ],
          [
           3.650000000000034,
           null
          ],
          [
           -1.5999999999999943,
           null
          ],
          [
           -0.1599999999999966,
           "red"
          ],
          [
           5.290000000000006,
           null
          ],
          [
           -0.030000000000001137,
           "red"
          ],
          [
           -0.03999999999999204,
           "red"
          ],
          [
           1.539999999999992,
           null
          ],
          [
           -0.7400000000000091,
           "red"
          ],
          [
           -0.07000000000000028,
           "red"
          ],
          [
           4.009999999999991,
           null
          ],
          [
           1.240000000000009,
           null
          ],
          [
           0.27000000000001023,
           "green"
          ],
          [
           -0.35999999999999943,
           "red"
          ],
          [
           -2.0299999999999727,
           null
          ],
          [
           0.2400000000000091,
           "green"
          ],
          [
           0.6500000000000057,
           "green"
          ],
          [
           0.19000000000000483,
           "green"
          ],
          [
           10.830000000000041,
           null
          ],
          [
           1.2800000000000011,
           null
          ],
          [
           0.9899999999999807,
           "green"
          ],
          [
           1.75,
           null
          ],
          [
           0.0899999999999963,
           "green"
          ],
          [
           0.01999999999999602,
           "lime"
          ],
          [
           0.14999999999999147,
           "green"
          ],
          [
           -0.46000000000000796,
           "red"
          ],
          [
           -0.11999999999999744,
           "red"
          ],
          [
           -2.3100000000000023,
           null
          ],
          [
           -0.05999999999999961,
           "red"
          ],
          [
           2.7600000000001046,
           null
          ],
          [
           "(?)",
           "(?)"
          ],
          [
           "(?)",
           "(?)"
          ],
          [
           "(?)",
           "(?)"
          ],
          [
           "(?)",
           "green"
          ],
          [
           0.4399999999999977,
           "green"
          ],
          [
           "(?)",
           "(?)"
          ],
          [
           "(?)",
           "(?)"
          ],
          [
           "(?)",
           "(?)"
          ],
          [
           -0.6899999999999977,
           "red"
          ],
          [
           "(?)",
           "(?)"
          ],
          [
           "(?)",
           "(?)"
          ]
         ],
         "domain": {
          "x": [
           0,
           1
          ],
          "y": [
           0,
           1
          ]
         },
         "hovertemplate": "labels=%{label}<br>Market_Cap=%{value}<br>parent=%{parent}<br>id=%{id}<br>Delta=%{customdata[0]}<br>colors=%{customdata[1]}<extra></extra>",
         "ids": [
          "all/Consumer Discretionary/LCID",
          "all/Information Technology/ZS",
          "all/Information Technology/PANW",
          "all/Information Technology/KLAC",
          "all/Real Estate/CSGP",
          "all/Industrials/CTAS",
          "all/Communication Services/NFLX",
          "all/Information Technology/MU",
          "all/Health Care/MRNA",
          "all/Information Technology/ENPH",
          "all/Utilities/EXC",
          "all/Communication Services/META",
          "all/Industrials/FAST",
          "all/Health Care/GEHC",
          "all/Health Care/GILD",
          "all/Communication Services/GOOG",
          "all/Communication Services/GOOGL",
          "all/Health Care/IDXX",
          "all/Consumer Staples/PEP",
          "all/Financials/PYPL",
          "all/Information Technology/CSCO",
          "all/Energy/BKR",
          "all/Utilities/XEL",
          "all/Consumer Staples/WBA",
          "all/Industrials/ADP",
          "all/Information Technology/ADSK",
          "all/Utilities/AEP",
          "all/Information Technology/AMAT",
          "all/Information Technology/QCOM",
          "all/Communication Services/TTD",
          "all/Information Technology/TXN",
          "all/Consumer Staples/KHC",
          "all/Health Care/SGEN",
          "all/Consumer Discretionary/SBUX",
          "all/Consumer Discretionary/BKNG",
          "all/Consumer Discretionary/LULU",
          "all/Consumer Discretionary/PDD",
          "all/Information Technology/LRCX",
          "all/Consumer Discretionary/MAR",
          "all/Industrials/PCAR",
          "all/Information Technology/MCHP",
          "all/Health Care/VRTX",
          "all/Consumer Discretionary/ORLY",
          "all/Information Technology/NVDA",
          "all/Consumer Discretionary/ROST",
          "all/Consumer Discretionary/MELI",
          "all/Industrials/VRSK",
          "all/Information Technology/ON",
          "all/Consumer Discretionary/TSLA",
          "all/Information Technology/MSFT",
          "all/Communication Services/TMUS",
          "all/Information Technology/TEAM",
          "all/Information Technology/NXPI",
          "all/Consumer Staples/MDLZ",
          "all/Information Technology/AAPL",
          "all/Consumer Discretionary/JD",
          "all/Information Technology/ADBE",
          "all/Information Technology/ADI",
          "all/Information Technology/AMD",
          "all/Consumer Discretionary/AMZN",
          "all/Information Technology/ANSS",
          "all/Information Technology/ASML",
          "all/Information Technology/AVGO",
          "all/Health Care/AZN",
          "all/Health Care/BIIB",
          "all/Information Technology/CDNS",
          "all/Utilities/CEG",
          "all/Communication Services/CHTR",
          "all/Communication Services/CMCSA",
          "all/Industrials/CPRT",
          "all/Consumer Staples/COST",
          "all/Information Technology/FTNT",
          "all/Health Care/ISRG",
          "all/Information Technology/ZM",
          "all/Information Technology/INTC",
          "all/Health Care/ILMN",
          "all/Consumer Discretionary/EBAY",
          "all/Information Technology/DDOG",
          "all/Consumer Discretionary/ABNB",
          "all/Information Technology/WDAY",
          "all/Communication Services/WBD",
          "all/Health Care/ALGN",
          "all/Health Care/AMGN",
          "all/Industrials/HON",
          "all/Information Technology/GFS",
          "all/Information Technology/SNPS",
          "all/Information Technology/CTSH",
          "all/Energy/FANG",
          "all/Consumer Staples/MNST",
          "all/Health Care/REGN",
          "all/Information Technology/MRVL",
          "all/Communication Services/EA",
          "all/Health Care/DXCM",
          "all/Consumer Staples/KDP",
          "all/Industrials/PAYX",
          "all/Consumer Staples/DLTR",
          "all/Information Technology/CRWD",
          "all/Industrials/CSX",
          "all/Industrials/ODFL",
          "all/Communication Services/SIRI",
          "all/Information Technology/INTU",
          "all/Communication Services",
          "all/Consumer Discretionary",
          "all/Consumer Staples",
          "all/Energy",
          "all/Financials",
          "all/Health Care",
          "all/Industrials",
          "all/Information Technology",
          "all/Real Estate",
          "all/Utilities",
          "all"
         ],
         "labels": [
          "LCID",
          "ZS",
          "PANW",
          "KLAC",
          "CSGP",
          "CTAS",
          "NFLX",
          "MU",
          "MRNA",
          "ENPH",
          "EXC",
          "META",
          "FAST",
          "GEHC",
          "GILD",
          "GOOG",
          "GOOGL",
          "IDXX",
          "PEP",
          "PYPL",
          "CSCO",
          "BKR",
          "XEL",
          "WBA",
          "ADP",
          "ADSK",
          "AEP",
          "AMAT",
          "QCOM",
          "TTD",
          "TXN",
          "KHC",
          "SGEN",
          "SBUX",
          "BKNG",
          "LULU",
          "PDD",
          "LRCX",
          "MAR",
          "PCAR",
          "MCHP",
          "VRTX",
          "ORLY",
          "NVDA",
          "ROST",
          "MELI",
          "VRSK",
          "ON",
          "TSLA",
          "MSFT",
          "TMUS",
          "TEAM",
          "NXPI",
          "MDLZ",
          "AAPL",
          "JD",
          "ADBE",
          "ADI",
          "AMD",
          "AMZN",
          "ANSS",
          "ASML",
          "AVGO",
          "AZN",
          "BIIB",
          "CDNS",
          "CEG",
          "CHTR",
          "CMCSA",
          "CPRT",
          "COST",
          "FTNT",
          "ISRG",
          "ZM",
          "INTC",
          "ILMN",
          "EBAY",
          "DDOG",
          "ABNB",
          "WDAY",
          "WBD",
          "ALGN",
          "AMGN",
          "HON",
          "GFS",
          "SNPS",
          "CTSH",
          "FANG",
          "MNST",
          "REGN",
          "MRVL",
          "EA",
          "DXCM",
          "KDP",
          "PAYX",
          "DLTR",
          "CRWD",
          "CSX",
          "ODFL",
          "SIRI",
          "INTU",
          "Communication Services",
          "Consumer Discretionary",
          "Consumer Staples",
          "Energy",
          "Financials",
          "Health Care",
          "Industrials",
          "Information Technology",
          "Real Estate",
          "Utilities",
          "all"
         ],
         "marker": {
          "colors": [
           "lightgreen",
           "green",
           "#B6E880",
           "green",
           "red",
           "#B6E880",
           "#B6E880",
           "green",
           "#B6E880",
           "#B6E880",
           "green",
           "green",
           "red",
           "green",
           "green",
           "green",
           "green",
           "#B6E880",
           "green",
           "green",
           "red",
           "green",
           "green",
           "green",
           "red",
           "green",
           "green",
           "#B6E880",
           "red",
           "green",
           "green",
           "gray",
           "green",
           "red",
           "#B6E880",
           "#B6E880",
           "green",
           "#B6E880",
           "#B6E880",
           "red",
           "red",
           "#B6E880",
           "#B6E880",
           "#B6E880",
           "green",
           "#B6E880",
           "#B6E880",
           "green",
           "#B6E880",
           "red",
           "#B6E880",
           "#B6E880",
           "red",
           "green",
           "#B6E880",
           "red",
           "#B6E880",
           "red",
           "red",
           "green",
           "#B6E880",
           "#B6E880",
           "#B6E880",
           "#B6E880",
           "#B6E880",
           "#B6E880",
           "red",
           "#B6E880",
           "green",
           "green",
           "#B6E880",
           "green",
           "#B6E880",
           "#B6E880",
           "red",
           "#B6E880",
           "red",
           "red",
           "#B6E880",
           "red",
           "red",
           "#B6E880",
           "#B6E880",
           "green",
           "red",
           "#B6E880",
           "green",
           "green",
           "green",
           "#B6E880",
           "#B6E880",
           "green",
           "#B6E880",
           "green",
           "lime",
           "green",
           "red",
           "red",
           "#B6E880",
           "red",
           "#B6E880",
           "#262931",
           "#262931",
           "#262931",
           "green",
           "green",
           "#262931",
           "#262931",
           "#262931",
           "red",
           "#262931",
           "#262931"
          ]
         },
         "name": "",
         "parents": [
          "all/Consumer Discretionary",
          "all/Information Technology",
          "all/Information Technology",
          "all/Information Technology",
          "all/Real Estate",
          "all/Industrials",
          "all/Communication Services",
          "all/Information Technology",
          "all/Health Care",
          "all/Information Technology",
          "all/Utilities",
          "all/Communication Services",
          "all/Industrials",
          "all/Health Care",
          "all/Health Care",
          "all/Communication Services",
          "all/Communication Services",
          "all/Health Care",
          "all/Consumer Staples",
          "all/Financials",
          "all/Information Technology",
          "all/Energy",
          "all/Utilities",
          "all/Consumer Staples",
          "all/Industrials",
          "all/Information Technology",
          "all/Utilities",
          "all/Information Technology",
          "all/Information Technology",
          "all/Communication Services",
          "all/Information Technology",
          "all/Consumer Staples",
          "all/Health Care",
          "all/Consumer Discretionary",
          "all/Consumer Discretionary",
          "all/Consumer Discretionary",
          "all/Consumer Discretionary",
          "all/Information Technology",
          "all/Consumer Discretionary",
          "all/Industrials",
          "all/Information Technology",
          "all/Health Care",
          "all/Consumer Discretionary",
          "all/Information Technology",
          "all/Consumer Discretionary",
          "all/Consumer Discretionary",
          "all/Industrials",
          "all/Information Technology",
          "all/Consumer Discretionary",
          "all/Information Technology",
          "all/Communication Services",
          "all/Information Technology",
          "all/Information Technology",
          "all/Consumer Staples",
          "all/Information Technology",
          "all/Consumer Discretionary",
          "all/Information Technology",
          "all/Information Technology",
          "all/Information Technology",
          "all/Consumer Discretionary",
          "all/Information Technology",
          "all/Information Technology",
          "all/Information Technology",
          "all/Health Care",
          "all/Health Care",
          "all/Information Technology",
          "all/Utilities",
          "all/Communication Services",
          "all/Communication Services",
          "all/Industrials",
          "all/Consumer Staples",
          "all/Information Technology",
          "all/Health Care",
          "all/Information Technology",
          "all/Information Technology",
          "all/Health Care",
          "all/Consumer Discretionary",
          "all/Information Technology",
          "all/Consumer Discretionary",
          "all/Information Technology",
          "all/Communication Services",
          "all/Health Care",
          "all/Health Care",
          "all/Industrials",
          "all/Information Technology",
          "all/Information Technology",
          "all/Information Technology",
          "all/Energy",
          "all/Consumer Staples",
          "all/Health Care",
          "all/Information Technology",
          "all/Communication Services",
          "all/Health Care",
          "all/Consumer Staples",
          "all/Industrials",
          "all/Consumer Staples",
          "all/Information Technology",
          "all/Industrials",
          "all/Industrials",
          "all/Communication Services",
          "all/Information Technology",
          "all",
          "all",
          "all",
          "all",
          "all",
          "all",
          "all",
          "all",
          "all",
          "all",
          ""
         ],
         "type": "treemap",
         "values": [
          9660000000,
          31260000000,
          96350000000,
          76260000000,
          34660000000,
          57500000000,
          202650000000,
          86270000000,
          29760000000,
          13630000000,
          39260000000,
          858900000000,
          36510000000,
          32800000000,
          100710000000,
          0,
          0,
          45270000000,
          231620000000,
          63490000000,
          200450000000,
          32500000000,
          33750000000,
          19770000000,
          97350000000,
          48760000000,
          42070000000,
          131520000000,
          152120000000,
          34980000000,
          143420000000,
          45700000000,
          43180000000,
          111570000000,
          118710000000,
          63560000000,
          195540000000,
          96370000000,
          63690000000,
          51070000000,
          48280000000,
          92180000000,
          57550000000,
          0,
          45600000000,
          81750000000,
          35270000000,
          33760000000,
          753440000000,
          0,
          185540000000,
          52130000000,
          56480000000,
          98350000000,
          0,
          40450000000,
          288510000000,
          94770000000,
          222310000000,
          0,
          25750000000,
          281800000000,
          500920000000,
          197910000000,
          36090000000,
          74610000000,
          36570000000,
          54300000000,
          171750000000,
          47410000000,
          279390000000,
          42270000000,
          112910000000,
          21700000000,
          185670000000,
          18680000000,
          21340000000,
          37670000000,
          90080000000,
          72790000000,
          27390000000,
          16660000000,
          146630000000,
          132850000000,
          31150000000,
          86220000000,
          36130000000,
          26470000000,
          58060000000,
          94100000000,
          46910000000,
          37740000000,
          45480000000,
          45680000000,
          45720000000,
          27660000000,
          59690000000,
          65650000000,
          41710000000,
          20350000000,
          166330000000,
          1593600000000,
          1652940000000,
          806230000000,
          58970000000,
          63490000000,
          1012360000000,
          611040000000,
          3542260000000,
          34660000000,
          151650000000,
          9527200000000
         ]
        }
       ],
       "layout": {
        "height": 800,
        "legend": {
         "tracegroupgap": 0
        },
        "margin": {
         "t": 60
        },
        "template": {
         "data": {
          "bar": [
           {
            "error_x": {
             "color": "#2a3f5f"
            },
            "error_y": {
             "color": "#2a3f5f"
            },
            "marker": {
             "line": {
              "color": "#E5ECF6",
              "width": 0.5
             },
             "pattern": {
              "fillmode": "overlay",
              "size": 10,
              "solidity": 0.2
             }
            },
            "type": "bar"
           }
          ],
          "barpolar": [
           {
            "marker": {
             "line": {
              "color": "#E5ECF6",
              "width": 0.5
             },
             "pattern": {
              "fillmode": "overlay",
              "size": 10,
              "solidity": 0.2
             }
            },
            "type": "barpolar"
           }
          ],
          "carpet": [
           {
            "aaxis": {
             "endlinecolor": "#2a3f5f",
             "gridcolor": "white",
             "linecolor": "white",
             "minorgridcolor": "white",
             "startlinecolor": "#2a3f5f"
            },
            "baxis": {
             "endlinecolor": "#2a3f5f",
             "gridcolor": "white",
             "linecolor": "white",
             "minorgridcolor": "white",
             "startlinecolor": "#2a3f5f"
            },
            "type": "carpet"
           }
          ],
          "choropleth": [
           {
            "colorbar": {
             "outlinewidth": 0,
             "ticks": ""
            },
            "type": "choropleth"
           }
          ],
          "contour": [
           {
            "colorbar": {
             "outlinewidth": 0,
             "ticks": ""
            },
            "colorscale": [
             [
              0,
              "#0d0887"
             ],
             [
              0.1111111111111111,
              "#46039f"
             ],
             [
              0.2222222222222222,
              "#7201a8"
             ],
             [
              0.3333333333333333,
              "#9c179e"
             ],
             [
              0.4444444444444444,
              "#bd3786"
             ],
             [
              0.5555555555555556,
              "#d8576b"
             ],
             [
              0.6666666666666666,
              "#ed7953"
             ],
             [
              0.7777777777777778,
              "#fb9f3a"
             ],
             [
              0.8888888888888888,
              "#fdca26"
             ],
             [
              1,
              "#f0f921"
             ]
            ],
            "type": "contour"
           }
          ],
          "contourcarpet": [
           {
            "colorbar": {
             "outlinewidth": 0,
             "ticks": ""
            },
            "type": "contourcarpet"
           }
          ],
          "heatmap": [
           {
            "colorbar": {
             "outlinewidth": 0,
             "ticks": ""
            },
            "colorscale": [
             [
              0,
              "#0d0887"
             ],
             [
              0.1111111111111111,
              "#46039f"
             ],
             [
              0.2222222222222222,
              "#7201a8"
             ],
             [
              0.3333333333333333,
              "#9c179e"
             ],
             [
              0.4444444444444444,
              "#bd3786"
             ],
             [
              0.5555555555555556,
              "#d8576b"
             ],
             [
              0.6666666666666666,
              "#ed7953"
             ],
             [
              0.7777777777777778,
              "#fb9f3a"
             ],
             [
              0.8888888888888888,
              "#fdca26"
             ],
             [
              1,
              "#f0f921"
             ]
            ],
            "type": "heatmap"
           }
          ],
          "heatmapgl": [
           {
            "colorbar": {
             "outlinewidth": 0,
             "ticks": ""
            },
            "colorscale": [
             [
              0,
              "#0d0887"
             ],
             [
              0.1111111111111111,
              "#46039f"
             ],
             [
              0.2222222222222222,
              "#7201a8"
             ],
             [
              0.3333333333333333,
              "#9c179e"
             ],
             [
              0.4444444444444444,
              "#bd3786"
             ],
             [
              0.5555555555555556,
              "#d8576b"
             ],
             [
              0.6666666666666666,
              "#ed7953"
             ],
             [
              0.7777777777777778,
              "#fb9f3a"
             ],
             [
              0.8888888888888888,
              "#fdca26"
             ],
             [
              1,
              "#f0f921"
             ]
            ],
            "type": "heatmapgl"
           }
          ],
          "histogram": [
           {
            "marker": {
             "pattern": {
              "fillmode": "overlay",
              "size": 10,
              "solidity": 0.2
             }
            },
            "type": "histogram"
           }
          ],
          "histogram2d": [
           {
            "colorbar": {
             "outlinewidth": 0,
             "ticks": ""
            },
            "colorscale": [
             [
              0,
              "#0d0887"
             ],
             [
              0.1111111111111111,
              "#46039f"
             ],
             [
              0.2222222222222222,
              "#7201a8"
             ],
             [
              0.3333333333333333,
              "#9c179e"
             ],
             [
              0.4444444444444444,
              "#bd3786"
             ],
             [
              0.5555555555555556,
              "#d8576b"
             ],
             [
              0.6666666666666666,
              "#ed7953"
             ],
             [
              0.7777777777777778,
              "#fb9f3a"
             ],
             [
              0.8888888888888888,
              "#fdca26"
             ],
             [
              1,
              "#f0f921"
             ]
            ],
            "type": "histogram2d"
           }
          ],
          "histogram2dcontour": [
           {
            "colorbar": {
             "outlinewidth": 0,
             "ticks": ""
            },
            "colorscale": [
             [
              0,
              "#0d0887"
             ],
             [
              0.1111111111111111,
              "#46039f"
             ],
             [
              0.2222222222222222,
              "#7201a8"
             ],
             [
              0.3333333333333333,
              "#9c179e"
             ],
             [
              0.4444444444444444,
              "#bd3786"
             ],
             [
              0.5555555555555556,
              "#d8576b"
             ],
             [
              0.6666666666666666,
              "#ed7953"
             ],
             [
              0.7777777777777778,
              "#fb9f3a"
             ],
             [
              0.8888888888888888,
              "#fdca26"
             ],
             [
              1,
              "#f0f921"
             ]
            ],
            "type": "histogram2dcontour"
           }
          ],
          "mesh3d": [
           {
            "colorbar": {
             "outlinewidth": 0,
             "ticks": ""
            },
            "type": "mesh3d"
           }
          ],
          "parcoords": [
           {
            "line": {
             "colorbar": {
              "outlinewidth": 0,
              "ticks": ""
             }
            },
            "type": "parcoords"
           }
          ],
          "pie": [
           {
            "automargin": true,
            "type": "pie"
           }
          ],
          "scatter": [
           {
            "fillpattern": {
             "fillmode": "overlay",
             "size": 10,
             "solidity": 0.2
            },
            "type": "scatter"
           }
          ],
          "scatter3d": [
           {
            "line": {
             "colorbar": {
              "outlinewidth": 0,
              "ticks": ""
             }
            },
            "marker": {
             "colorbar": {
              "outlinewidth": 0,
              "ticks": ""
             }
            },
            "type": "scatter3d"
           }
          ],
          "scattercarpet": [
           {
            "marker": {
             "colorbar": {
              "outlinewidth": 0,
              "ticks": ""
             }
            },
            "type": "scattercarpet"
           }
          ],
          "scattergeo": [
           {
            "marker": {
             "colorbar": {
              "outlinewidth": 0,
              "ticks": ""
             }
            },
            "type": "scattergeo"
           }
          ],
          "scattergl": [
           {
            "marker": {
             "colorbar": {
              "outlinewidth": 0,
              "ticks": ""
             }
            },
            "type": "scattergl"
           }
          ],
          "scattermapbox": [
           {
            "marker": {
             "colorbar": {
              "outlinewidth": 0,
              "ticks": ""
             }
            },
            "type": "scattermapbox"
           }
          ],
          "scatterpolar": [
           {
            "marker": {
             "colorbar": {
              "outlinewidth": 0,
              "ticks": ""
             }
            },
            "type": "scatterpolar"
           }
          ],
          "scatterpolargl": [
           {
            "marker": {
             "colorbar": {
              "outlinewidth": 0,
              "ticks": ""
             }
            },
            "type": "scatterpolargl"
           }
          ],
          "scatterternary": [
           {
            "marker": {
             "colorbar": {
              "outlinewidth": 0,
              "ticks": ""
             }
            },
            "type": "scatterternary"
           }
          ],
          "surface": [
           {
            "colorbar": {
             "outlinewidth": 0,
             "ticks": ""
            },
            "colorscale": [
             [
              0,
              "#0d0887"
             ],
             [
              0.1111111111111111,
              "#46039f"
             ],
             [
              0.2222222222222222,
              "#7201a8"
             ],
             [
              0.3333333333333333,
              "#9c179e"
             ],
             [
              0.4444444444444444,
              "#bd3786"
             ],
             [
              0.5555555555555556,
              "#d8576b"
             ],
             [
              0.6666666666666666,
              "#ed7953"
             ],
             [
              0.7777777777777778,
              "#fb9f3a"
             ],
             [
              0.8888888888888888,
              "#fdca26"
             ],
             [
              1,
              "#f0f921"
             ]
            ],
            "type": "surface"
           }
          ],
          "table": [
           {
            "cells": {
             "fill": {
              "color": "#EBF0F8"
             },
             "line": {
              "color": "white"
             }
            },
            "header": {
             "fill": {
              "color": "#C8D4E3"
             },
             "line": {
              "color": "white"
             }
            },
            "type": "table"
           }
          ]
         },
         "layout": {
          "annotationdefaults": {
           "arrowcolor": "#2a3f5f",
           "arrowhead": 0,
           "arrowwidth": 1
          },
          "autotypenumbers": "strict",
          "coloraxis": {
           "colorbar": {
            "outlinewidth": 0,
            "ticks": ""
           }
          },
          "colorscale": {
           "diverging": [
            [
             0,
             "#8e0152"
            ],
            [
             0.1,
             "#c51b7d"
            ],
            [
             0.2,
             "#de77ae"
            ],
            [
             0.3,
             "#f1b6da"
            ],
            [
             0.4,
             "#fde0ef"
            ],
            [
             0.5,
             "#f7f7f7"
            ],
            [
             0.6,
             "#e6f5d0"
            ],
            [
             0.7,
             "#b8e186"
            ],
            [
             0.8,
             "#7fbc41"
            ],
            [
             0.9,
             "#4d9221"
            ],
            [
             1,
             "#276419"
            ]
           ],
           "sequential": [
            [
             0,
             "#0d0887"
            ],
            [
             0.1111111111111111,
             "#46039f"
            ],
            [
             0.2222222222222222,
             "#7201a8"
            ],
            [
             0.3333333333333333,
             "#9c179e"
            ],
            [
             0.4444444444444444,
             "#bd3786"
            ],
            [
             0.5555555555555556,
             "#d8576b"
            ],
            [
             0.6666666666666666,
             "#ed7953"
            ],
            [
             0.7777777777777778,
             "#fb9f3a"
            ],
            [
             0.8888888888888888,
             "#fdca26"
            ],
            [
             1,
             "#f0f921"
            ]
           ],
           "sequentialminus": [
            [
             0,
             "#0d0887"
            ],
            [
             0.1111111111111111,
             "#46039f"
            ],
            [
             0.2222222222222222,
             "#7201a8"
            ],
            [
             0.3333333333333333,
             "#9c179e"
            ],
            [
             0.4444444444444444,
             "#bd3786"
            ],
            [
             0.5555555555555556,
             "#d8576b"
            ],
            [
             0.6666666666666666,
             "#ed7953"
            ],
            [
             0.7777777777777778,
             "#fb9f3a"
            ],
            [
             0.8888888888888888,
             "#fdca26"
            ],
            [
             1,
             "#f0f921"
            ]
           ]
          },
          "colorway": [
           "#636efa",
           "#EF553B",
           "#00cc96",
           "#ab63fa",
           "#FFA15A",
           "#19d3f3",
           "#FF6692",
           "#B6E880",
           "#FF97FF",
           "#FECB52"
          ],
          "font": {
           "color": "#2a3f5f"
          },
          "geo": {
           "bgcolor": "white",
           "lakecolor": "white",
           "landcolor": "#E5ECF6",
           "showlakes": true,
           "showland": true,
           "subunitcolor": "white"
          },
          "hoverlabel": {
           "align": "left"
          },
          "hovermode": "closest",
          "mapbox": {
           "style": "light"
          },
          "paper_bgcolor": "white",
          "plot_bgcolor": "#E5ECF6",
          "polar": {
           "angularaxis": {
            "gridcolor": "white",
            "linecolor": "white",
            "ticks": ""
           },
           "bgcolor": "#E5ECF6",
           "radialaxis": {
            "gridcolor": "white",
            "linecolor": "white",
            "ticks": ""
           }
          },
          "scene": {
           "xaxis": {
            "backgroundcolor": "#E5ECF6",
            "gridcolor": "white",
            "gridwidth": 2,
            "linecolor": "white",
            "showbackground": true,
            "ticks": "",
            "zerolinecolor": "white"
           },
           "yaxis": {
            "backgroundcolor": "#E5ECF6",
            "gridcolor": "white",
            "gridwidth": 2,
            "linecolor": "white",
            "showbackground": true,
            "ticks": "",
            "zerolinecolor": "white"
           },
           "zaxis": {
            "backgroundcolor": "#E5ECF6",
            "gridcolor": "white",
            "gridwidth": 2,
            "linecolor": "white",
            "showbackground": true,
            "ticks": "",
            "zerolinecolor": "white"
           }
          },
          "shapedefaults": {
           "line": {
            "color": "#2a3f5f"
           }
          },
          "ternary": {
           "aaxis": {
            "gridcolor": "white",
            "linecolor": "white",
            "ticks": ""
           },
           "baxis": {
            "gridcolor": "white",
            "linecolor": "white",
            "ticks": ""
           },
           "bgcolor": "#E5ECF6",
           "caxis": {
            "gridcolor": "white",
            "linecolor": "white",
            "ticks": ""
           }
          },
          "title": {
           "x": 0.05
          },
          "xaxis": {
           "automargin": true,
           "gridcolor": "white",
           "linecolor": "white",
           "ticks": "",
           "title": {
            "standoff": 15
           },
           "zerolinecolor": "white",
           "zerolinewidth": 2
          },
          "yaxis": {
           "automargin": true,
           "gridcolor": "white",
           "linecolor": "white",
           "ticks": "",
           "title": {
            "standoff": 15
           },
           "zerolinecolor": "white",
           "zerolinewidth": 2
          }
         }
        },
        "width": 600
       }
      },
      "image/png": "[encoded data removed]",
      "text/html": [
       "<div>                            <div id=\"910ae40c-5b87-44ea-a957-7d1fc86b9fb1\" class=\"plotly-graph-div\" style=\"height:800px; width:600px;\"></div>            <script type=\"text/javascript\">                require([\"plotly\"], function(Plotly) {                    window.PLOTLYENV=window.PLOTLYENV || {};                                    if (document.getElementById(\"910ae40c-5b87-44ea-a957-7d1fc86b9fb1\")) {                    Plotly.newPlot(                        \"910ae40c-5b87-44ea-a957-7d1fc86b9fb1\",                        [{\"branchvalues\":\"total\",\"customdata\":[[0.004999999999999893,\"lightgreen\"],[0.9800000000000182,\"green\"],[4.6200000000000045,null],[0.9500000000000455,\"green\"],[-0.6899999999999977,\"red\"],[4.6200000000000045,null],[9.819999999999993,null],[0.6000000000000085,\"green\"],[-4.050000000000011,null],[-2.839999999999989,null],[0.480000000000004,\"green\"],[0.8999999999999773,\"green\"],[-0.39000000000000057,\"red\"],[0.7999999999999972,\"green\"],[0.4700000000000131,\"green\"],[0.44000000000002615,\"green\"],[0.20999999999997954,\"green\"],[3.9300000000000637,null],[0.6899999999999977,\"green\"],[0.4399999999999977,\"green\"],[-0.4299999999999997,\"red\"],[0.07000000000000028,\"green\"],[0.7000000000000028,\"green\"],[0.240000000000002,\"green\"],[-0.18999999999999773,\"red\"],[0.6599999999999966,\"green\"],[0.6700000000000017,\"green\"],[-1.2800000000000011,null],[-0.09000000000000341,\"red\"],[0.6900000000000119,\"green\"],[0.8200000000000216,\"green\"],[0.0,\"gray\"],[0.04999999999998295,\"green\"],[-0.8599999999999994,\"red\"],[20.4699999999998,null],[-7.239999999999952,null],[0.18000000000000682,\"green\"],[-2.0,null],[-1.5699999999999932,null],[-0.3499999999999943,\"red\"],[-0.6700000000000017,\"red\"],[33.35999999999996,null],[8.730000000000018,null],[6.430000000000007,null],[0.660000000000025,\"green\"],[-27.080000000000155,null],[2.359999999999985,null],[0.4299999999999926,\"green\"],[-5.609999999999985,null],[-0.08999999999997499,\"red\"],[-1.4799999999999898,null],[5.72999999999999,null],[-0.1599999999999966,\"red\"],[0.5499999999999972,\"green\"],[1.5300000000000011,null],[-0.4299999999999997,\"red\"],[-9.319999999999936,null],[-0.5699999999999932,\"red\"],[-0.0700000000000216,\"red\"],[0.45000000000001705,\"green\"],[-3.590000000000032,null],[2.7900000000000773,null],[13.829999999999927,null],[1.2700000000000031,null],[4.810000000000002,null],[-1.3000000000000114,null],[-0.28000000000000114,\"red\"],[2.420000000000016,null],[0.14000000000000057,\"green\"],[0.25,\"green\"],[5.1299999999999955,null],[0.060000000000002274,\"green\"],[3.650000000000034,null],[-1.5999999999999943,null],[-0.1599999999999966,\"red\"],[5.290000000000006,null],[-0.030000000000001137,\"red\"],[-0.03999999999999204,\"red\"],[1.539999999999992,null],[-0.7400000000000091,\"red\"],[-0.07000000000000028,\"red\"],[4.009999999999991,null],[1.240000000000009,null],[0.27000000000001023,\"green\"],[-0.35999999999999943,\"red\"],[-2.0299999999999727,null],[0.2400000000000091,\"green\"],[0.6500000000000057,\"green\"],[0.19000000000000483,\"green\"],[10.830000000000041,null],[1.2800000000000011,null],[0.9899999999999807,\"green\"],[1.75,null],[0.0899999999999963,\"green\"],[0.01999999999999602,\"lime\"],[0.14999999999999147,\"green\"],[-0.46000000000000796,\"red\"],[-0.11999999999999744,\"red\"],[-2.3100000000000023,null],[-0.05999999999999961,\"red\"],[2.7600000000001046,null],[\"(?)\",\"(?)\"],[\"(?)\",\"(?)\"],[\"(?)\",\"(?)\"],[\"(?)\",\"green\"],[0.4399999999999977,\"green\"],[\"(?)\",\"(?)\"],[\"(?)\",\"(?)\"],[\"(?)\",\"(?)\"],[-0.6899999999999977,\"red\"],[\"(?)\",\"(?)\"],[\"(?)\",\"(?)\"]],\"domain\":{\"x\":[0.0,1.0],\"y\":[0.0,1.0]},\"hovertemplate\":\"labels=%{label}\\u003cbr\\u003eMarket_Cap=%{value}\\u003cbr\\u003eparent=%{parent}\\u003cbr\\u003eid=%{id}\\u003cbr\\u003eDelta=%{customdata[0]}\\u003cbr\\u003ecolors=%{customdata[1]}\\u003cextra\\u003e\\u003c\\u002fextra\\u003e\",\"ids\":[\"all\\u002fConsumer Discretionary\\u002fLCID\",\"all\\u002fInformation Technology\\u002fZS\",\"all\\u002fInformation Technology\\u002fPANW\",\"all\\u002fInformation Technology\\u002fKLAC\",\"all\\u002fReal Estate\\u002fCSGP\",\"all\\u002fIndustrials\\u002fCTAS\",\"all\\u002fCommunication Services\\u002fNFLX\",\"all\\u002fInformation Technology\\u002fMU\",\"all\\u002fHealth Care\\u002fMRNA\",\"all\\u002fInformation Technology\\u002fENPH\",\"all\\u002fUtilities\\u002fEXC\",\"all\\u002fCommunication Services\\u002fMETA\",\"all\\u002fIndustrials\\u002fFAST\",\"all\\u002fHealth Care\\u002fGEHC\",\"all\\u002fHealth Care\\u002fGILD\",\"all\\u002fCommunication Services\\u002fGOOG\",\"all\\u002fCommunication Services\\u002fGOOGL\",\"all\\u002fHealth Care\\u002fIDXX\",\"all\\u002fConsumer Staples\\u002fPEP\",\"all\\u002fFinancials\\u002fPYPL\",\"all\\u002fInformation Technology\\u002fCSCO\",\"all\\u002fEnergy\\u002fBKR\",\"all\\u002fUtilities\\u002fXEL\",\"all\\u002fConsumer Staples\\u002fWBA\",\"all\\u002fIndustrials\\u002fADP\",\"all\\u002fInformation Technology\\u002fADSK\",\"all\\u002fUtilities\\u002fAEP\",\"all\\u002fInformation Technology\\u002fAMAT\",\"all\\u002fInformation Technology\\u002fQCOM\",\"all\\u002fCommunication Services\\u002fTTD\",\"all\\u002fInformation Technology\\u002fTXN\",\"all\\u002fConsumer Staples\\u002fKHC\",\"all\\u002fHealth Care\\u002fSGEN\",\"all\\u002fConsumer Discretionary\\u002fSBUX\",\"all\\u002fConsumer Discretionary\\u002fBKNG\",\"all\\u002fConsumer Discretionary\\u002fLULU\",\"all\\u002fConsumer Discretionary\\u002fPDD\",\"all\\u002fInformation Technology\\u002fLRCX\",\"all\\u002fConsumer Discretionary\\u002fMAR\",\"all\\u002fIndustrials\\u002fPCAR\",\"all\\u002fInformation Technology\\u002fMCHP\",\"all\\u002fHealth Care\\u002fVRTX\",\"all\\u002fConsumer Discretionary\\u002fORLY\",\"all\\u002fInformation Technology\\u002fNVDA\",\"all\\u002fConsumer Discretionary\\u002fROST\",\"all\\u002fConsumer Discretionary\\u002fMELI\",\"all\\u002fIndustrials\\u002fVRSK\",\"all\\u002fInformation Technology\\u002fON\",\"all\\u002fConsumer Discretionary\\u002fTSLA\",\"all\\u002fInformation Technology\\u002fMSFT\",\"all\\u002fCommunication Services\\u002fTMUS\",\"all\\u002fInformation Technology\\u002fTEAM\",\"all\\u002fInformation Technology\\u002fNXPI\",\"all\\u002fConsumer Staples\\u002fMDLZ\",\"all\\u002fInformation Technology\\u002fAAPL\",\"all\\u002fConsumer Discretionary\\u002fJD\",\"all\\u002fInformation Technology\\u002fADBE\",\"all\\u002fInformation Technology\\u002fADI\",\"all\\u002fInformation Technology\\u002fAMD\",\"all\\u002fConsumer Discretionary\\u002fAMZN\",\"all\\u002fInformation Technology\\u002fANSS\",\"all\\u002fInformation Technology\\u002fASML\",\"all\\u002fInformation Technology\\u002fAVGO\",\"all\\u002fHealth Care\\u002fAZN\",\"all\\u002fHealth Care\\u002fBIIB\",\"all\\u002fInformation Technology\\u002fCDNS\",\"all\\u002fUtilities\\u002fCEG\",\"all\\u002fCommunication Services\\u002fCHTR\",\"all\\u002fCommunication Services\\u002fCMCSA\",\"all\\u002fIndustrials\\u002fCPRT\",\"all\\u002fConsumer Staples\\u002fCOST\",\"all\\u002fInformation Technology\\u002fFTNT\",\"all\\u002fHealth Care\\u002fISRG\",\"all\\u002fInformation Technology\\u002fZM\",\"all\\u002fInformation Technology\\u002fINTC\",\"all\\u002fHealth Care\\u002fILMN\",\"all\\u002fConsumer Discretionary\\u002fEBAY\",\"all\\u002fInformation Technology\\u002fDDOG\",\"all\\u002fConsumer Discretionary\\u002fABNB\",\"all\\u002fInformation Technology\\u002fWDAY\",\"all\\u002fCommunication Services\\u002fWBD\",\"all\\u002fHealth Care\\u002fALGN\",\"all\\u002fHealth Care\\u002fAMGN\",\"all\\u002fIndustrials\\u002fHON\",\"all\\u002fInformation Technology\\u002fGFS\",\"all\\u002fInformation Technology\\u002fSNPS\",\"all\\u002fInformation Technology\\u002fCTSH\",\"all\\u002fEnergy\\u002fFANG\",\"all\\u002fConsumer Staples\\u002fMNST\",\"all\\u002fHealth Care\\u002fREGN\",\"all\\u002fInformation Technology\\u002fMRVL\",\"all\\u002fCommunication Services\\u002fEA\",\"all\\u002fHealth Care\\u002fDXCM\",\"all\\u002fConsumer Staples\\u002fKDP\",\"all\\u002fIndustrials\\u002fPAYX\",\"all\\u002fConsumer Staples\\u002fDLTR\",\"all\\u002fInformation Technology\\u002fCRWD\",\"all\\u002fIndustrials\\u002fCSX\",\"all\\u002fIndustrials\\u002fODFL\",\"all\\u002fCommunication Services\\u002fSIRI\",\"all\\u002fInformation Technology\\u002fINTU\",\"all\\u002fCommunication Services\",\"all\\u002fConsumer Discretionary\",\"all\\u002fConsumer Staples\",\"all\\u002fEnergy\",\"all\\u002fFinancials\",\"all\\u002fHealth Care\",\"all\\u002fIndustrials\",\"all\\u002fInformation Technology\",\"all\\u002fReal Estate\",\"all\\u002fUtilities\",\"all\"],\"labels\":[\"LCID\",\"ZS\",\"PANW\",\"KLAC\",\"CSGP\",\"CTAS\",\"NFLX\",\"MU\",\"MRNA\",\"ENPH\",\"EXC\",\"META\",\"FAST\",\"GEHC\",\"GILD\",\"GOOG\",\"GOOGL\",\"IDXX\",\"PEP\",\"PYPL\",\"CSCO\",\"BKR\",\"XEL\",\"WBA\",\"ADP\",\"ADSK\",\"AEP\",\"AMAT\",\"QCOM\",\"TTD\",\"TXN\",\"KHC\",\"SGEN\",\"SBUX\",\"BKNG\",\"LULU\",\"PDD\",\"LRCX\",\"MAR\",\"PCAR\",\"MCHP\",\"VRTX\",\"ORLY\",\"NVDA\",\"ROST\",\"MELI\",\"VRSK\",\"ON\",\"TSLA\",\"MSFT\",\"TMUS\",\"TEAM\",\"NXPI\",\"MDLZ\",\"AAPL\",\"JD\",\"ADBE\",\"ADI\",\"AMD\",\"AMZN\",\"ANSS\",\"ASML\",\"AVGO\",\"AZN\",\"BIIB\",\"CDNS\",\"CEG\",\"CHTR\",\"CMCSA\",\"CPRT\",\"COST\",\"FTNT\",\"ISRG\",\"ZM\",\"INTC\",\"ILMN\",\"EBAY\",\"DDOG\",\"ABNB\",\"WDAY\",\"WBD\",\"ALGN\",\"AMGN\",\"HON\",\"GFS\",\"SNPS\",\"CTSH\",\"FANG\",\"MNST\",\"REGN\",\"MRVL\",\"EA\",\"DXCM\",\"KDP\",\"PAYX\",\"DLTR\",\"CRWD\",\"CSX\",\"ODFL\",\"SIRI\",\"INTU\",\"Communication Services\",\"Consumer Discretionary\",\"Consumer Staples\",\"Energy\",\"Financials\",\"Health Care\",\"Industrials\",\"Information Technology\",\"Real Estate\",\"Utilities\",\"all\"],\"marker\":{\"colors\":[\"lightgreen\",\"green\",\"#B6E880\",\"green\",\"red\",\"#B6E880\",\"#B6E880\",\"green\",\"#B6E880\",\"#B6E880\",\"green\",\"green\",\"red\",\"green\",\"green\",\"green\",\"green\",\"#B6E880\",\"green\",\"green\",\"red\",\"green\",\"green\",\"green\",\"red\",\"green\",\"green\",\"#B6E880\",\"red\",\"green\",\"green\",\"gray\",\"green\",\"red\",\"#B6E880\",\"#B6E880\",\"green\",\"#B6E880\",\"#B6E880\",\"red\",\"red\",\"#B6E880\",\"#B6E880\",\"#B6E880\",\"green\",\"#B6E880\",\"#B6E880\",\"green\",\"#B6E880\",\"red\",\"#B6E880\",\"#B6E880\",\"red\",\"green\",\"#B6E880\",\"red\",\"#B6E880\",\"red\",\"red\",\"green\",\"#B6E880\",\"#B6E880\",\"#B6E880\",\"#B6E880\",\"#B6E880\",\"#B6E880\",\"red\",\"#B6E880\",\"green\",\"green\",\"#B6E880\",\"green\",\"#B6E880\",\"#B6E880\",\"red\",\"#B6E880\",\"red\",\"red\",\"#B6E880\",\"red\",\"red\",\"#B6E880\",\"#B6E880\",\"green\",\"red\",\"#B6E880\",\"green\",\"green\",\"green\",\"#B6E880\",\"#B6E880\",\"green\",\"#B6E880\",\"green\",\"lime\",\"green\",\"red\",\"red\",\"#B6E880\",\"red\",\"#B6E880\",\"#262931\",\"#262931\",\"#262931\",\"green\",\"green\",\"#262931\",\"#262931\",\"#262931\",\"red\",\"#262931\",\"#262931\"]},\"name\":\"\",\"parents\":[\"all\\u002fConsumer Discretionary\",\"all\\u002fInformation Technology\",\"all\\u002fInformation Technology\",\"all\\u002fInformation Technology\",\"all\\u002fReal Estate\",\"all\\u002fIndustrials\",\"all\\u002fCommunication Services\",\"all\\u002fInformation Technology\",\"all\\u002fHealth Care\",\"all\\u002fInformation Technology\",\"all\\u002fUtilities\",\"all\\u002fCommunication Services\",\"all\\u002fIndustrials\",\"all\\u002fHealth Care\",\"all\\u002fHealth Care\",\"all\\u002fCommunication Services\",\"all\\u002fCommunication Services\",\"all\\u002fHealth Care\",\"all\\u002fConsumer Staples\",\"all\\u002fFinancials\",\"all\\u002fInformation Technology\",\"all\\u002fEnergy\",\"all\\u002fUtilities\",\"all\\u002fConsumer Staples\",\"all\\u002fIndustrials\",\"all\\u002fInformation Technology\",\"all\\u002fUtilities\",\"all\\u002fInformation Technology\",\"all\\u002fInformation Technology\",\"all\\u002fCommunication Services\",\"all\\u002fInformation Technology\",\"all\\u002fConsumer Staples\",\"all\\u002fHealth Care\",\"all\\u002fConsumer Discretionary\",\"all\\u002fConsumer Discretionary\",\"all\\u002fConsumer Discretionary\",\"all\\u002fConsumer Discretionary\",\"all\\u002fInformation Technology\",\"all\\u002fConsumer Discretionary\",\"all\\u002fIndustrials\",\"all\\u002fInformation Technology\",\"all\\u002fHealth Care\",\"all\\u002fConsumer Discretionary\",\"all\\u002fInformation Technology\",\"all\\u002fConsumer Discretionary\",\"all\\u002fConsumer Discretionary\",\"all\\u002fIndustrials\",\"all\\u002fInformation Technology\",\"all\\u002fConsumer Discretionary\",\"all\\u002fInformation Technology\",\"all\\u002fCommunication Services\",\"all\\u002fInformation Technology\",\"all\\u002fInformation Technology\",\"all\\u002fConsumer Staples\",\"all\\u002fInformation Technology\",\"all\\u002fConsumer Discretionary\",\"all\\u002fInformation Technology\",\"all\\u002fInformation Technology\",\"all\\u002fInformation Technology\",\"all\\u002fConsumer Discretionary\",\"all\\u002fInformation Technology\",\"all\\u002fInformation Technology\",\"all\\u002fInformation Technology\",\"all\\u002fHealth Care\",\"all\\u002fHealth Care\",\"all\\u002fInformation Technology\",\"all\\u002fUtilities\",\"all\\u002fCommunication Services\",\"all\\u002fCommunication Services\",\"all\\u002fIndustrials\",\"all\\u002fConsumer Staples\",\"all\\u002fInformation Technology\",\"all\\u002fHealth Care\",\"all\\u002fInformation Technology\",\"all\\u002fInformation Technology\",\"all\\u002fHealth Care\",\"all\\u002fConsumer Discretionary\",\"all\\u002fInformation Technology\",\"all\\u002fConsumer Discretionary\",\"all\\u002fInformation Technology\",\"all\\u002fCommunication Services\",\"all\\u002fHealth Care\",\"all\\u002fHealth Care\",\"all\\u002fIndustrials\",\"all\\u002fInformation Technology\",\"all\\u002fInformation Technology\",\"all\\u002fInformation Technology\",\"all\\u002fEnergy\",\"all\\u002fConsumer Staples\",\"all\\u002fHealth Care\",\"all\\u002fInformation Technology\",\"all\\u002fCommunication Services\",\"all\\u002fHealth Care\",\"all\\u002fConsumer Staples\",\"all\\u002fIndustrials\",\"all\\u002fConsumer Staples\",\"all\\u002fInformation Technology\",\"all\\u002fIndustrials\",\"all\\u002fIndustrials\",\"all\\u002fCommunication Services\",\"all\\u002fInformation Technology\",\"all\",\"all\",\"all\",\"all\",\"all\",\"all\",\"all\",\"all\",\"all\",\"all\",\"\"],\"values\":[9660000000.0,31260000000.0,96350000000.0,76260000000.0,34660000000.0,57500000000.0,202650000000.0,86270000000.0,29760000000.0,13630000000.0,39260000000.0,858900000000.0,36510000000.0,32800000000.0,100710000000.0,0.0,0.0,45270000000.0,231620000000.0,63490000000.0,200450000000.0,32500000000.0,33750000000.0,19770000000.0,97350000000.0,48760000000.0,42070000000.0,131520000000.0,152120000000.0,34980000000.0,143420000000.0,45700000000.0,43180000000.0,111570000000.0,118710000000.0,63560000000.0,195540000000.0,96370000000.0,63690000000.0,51070000000.0,48280000000.0,92180000000.0,57550000000.0,0.0,45600000000.0,81750000000.0,35270000000.0,33760000000.0,753440000000.0,0.0,185540000000.0,52130000000.0,56480000000.0,98350000000.0,0.0,40450000000.0,288510000000.0,94770000000.0,222310000000.0,0.0,25750000000.0,281800000000.0,500920000000.0,197910000000.0,36090000000.0,74610000000.0,36570000000.0,54300000000.0,171750000000.0,47410000000.0,279390000000.0,42270000000.0,112910000000.0,21700000000.0,185670000000.0,18680000000.0,21340000000.0,37670000000.0,90080000000.0,72790000000.0,27390000000.0,16660000000.0,146630000000.0,132850000000.0,31150000000.0,86220000000.0,36130000000.0,26470000000.0,58060000000.0,94100000000.0,46910000000.0,37740000000.0,45480000000.0,45680000000.0,45720000000.0,27660000000.0,59690000000.0,65650000000.0,41710000000.0,20350000000.0,166330000000.0,1593600000000.0,1652940000000.0,806230000000.0,58970000000.0,63490000000.0,1012360000000.0,611040000000.0,3542260000000.0,34660000000.0,151650000000.0,9527200000000.0],\"type\":\"treemap\"}],                        {\"template\":{\"data\":{\"histogram2dcontour\":[{\"type\":\"histogram2dcontour\",\"colorbar\":{\"outlinewidth\":0,\"ticks\":\"\"},\"colorscale\":[[0.0,\"#0d0887\"],[0.1111111111111111,\"#46039f\"],[0.2222222222222222,\"#7201a8\"],[0.3333333333333333,\"#9c179e\"],[0.4444444444444444,\"#bd3786\"],[0.5555555555555556,\"#d8576b\"],[0.6666666666666666,\"#ed7953\"],[0.7777777777777778,\"#fb9f3a\"],[0.8888888888888888,\"#fdca26\"],[1.0,\"#f0f921\"]]}],\"choropleth\":[{\"type\":\"choropleth\",\"colorbar\":{\"outlinewidth\":0,\"ticks\":\"\"}}],\"histogram2d\":[{\"type\":\"histogram2d\",\"colorbar\":{\"outlinewidth\":0,\"ticks\":\"\"},\"colorscale\":[[0.0,\"#0d0887\"],[0.1111111111111111,\"#46039f\"],[0.2222222222222222,\"#7201a8\"],[0.3333333333333333,\"#9c179e\"],[0.4444444444444444,\"#bd3786\"],[0.5555555555555556,\"#d8576b\"],[0.6666666666666666,\"#ed7953\"],[0.7777777777777778,\"#fb9f3a\"],[0.8888888888888888,\"#fdca26\"],[1.0,\"#f0f921\"]]}],\"heatmap\":[{\"type\":\"heatmap\",\"colorbar\":{\"outlinewidth\":0,\"ticks\":\"\"},\"colorscale\":[[0.0,\"#0d0887\"],[0.1111111111111111,\"#46039f\"],[0.2222222222222222,\"#7201a8\"],[0.3333333333333333,\"#9c179e\"],[0.4444444444444444,\"#bd3786\"],[0.5555555555555556,\"#d8576b\"],[0.6666666666666666,\"#ed7953\"],[0.7777777777777778,\"#fb9f3a\"],[0.8888888888888888,\"#fdca26\"],[1.0,\"#f0f921\"]]}],\"heatmapgl\":[{\"type\":\"heatmapgl\",\"colorbar\":{\"outlinewidth\":0,\"ticks\":\"\"},\"colorscale\":[[0.0,\"#0d0887\"],[0.1111111111111111,\"#46039f\"],[0.2222222222222222,\"#7201a8\"],[0.3333333333333333,\"#9c179e\"],[0.4444444444444444,\"#bd3786\"],[0.5555555555555556,\"#d8576b\"],[0.6666666666666666,\"#ed7953\"],[0.7777777777777778,\"#fb9f3a\"],[0.8888888888888888,\"#fdca26\"],[1.0,\"#f0f921\"]]}],\"contourcarpet\":[{\"type\":\"contourcarpet\",\"colorbar\":{\"outlinewidth\":0,\"ticks\":\"\"}}],\"contour\":[{\"type\":\"contour\",\"colorbar\":{\"outlinewidth\":0,\"ticks\":\"\"},\"colorscale\":[[0.0,\"#0d0887\"],[0.1111111111111111,\"#46039f\"],[0.2222222222222222,\"#7201a8\"],[0.3333333333333333,\"#9c179e\"],[0.4444444444444444,\"#bd3786\"],[0.5555555555555556,\"#d8576b\"],[0.6666666666666666,\"#ed7953\"],[0.7777777777777778,\"#fb9f3a\"],[0.8888888888888888,\"#fdca26\"],[1.0,\"#f0f921\"]]}],\"surface\":[{\"type\":\"surface\",\"colorbar\":{\"outlinewidth\":0,\"ticks\":\"\"},\"colorscale\":[[0.0,\"#0d0887\"],[0.1111111111111111,\"#46039f\"],[0.2222222222222222,\"#7201a8\"],[0.3333333333333333,\"#9c179e\"],[0.4444444444444444,\"#bd3786\"],[0.5555555555555556,\"#d8576b\"],[0.6666666666666666,\"#ed7953\"],[0.7777777777777778,\"#fb9f3a\"],[0.8888888888888888,\"#fdca26\"],[1.0,\"#f0f921\"]]}],\"mesh3d\":[{\"type\":\"mesh3d\",\"colorbar\":{\"outlinewidth\":0,\"ticks\":\"\"}}],\"scatter\":[{\"fillpattern\":{\"fillmode\":\"overlay\",\"size\":10,\"solidity\":0.2},\"type\":\"scatter\"}],\"parcoords\":[{\"type\":\"parcoords\",\"line\":{\"colorbar\":{\"outlinewidth\":0,\"ticks\":\"\"}}}],\"scatterpolargl\":[{\"type\":\"scatterpolargl\",\"marker\":{\"colorbar\":{\"outlinewidth\":0,\"ticks\":\"\"}}}],\"bar\":[{\"error_x\":{\"color\":\"#2a3f5f\"},\"error_y\":{\"color\":\"#2a3f5f\"},\"marker\":{\"line\":{\"color\":\"#E5ECF6\",\"width\":0.5},\"pattern\":{\"fillmode\":\"overlay\",\"size\":10,\"solidity\":0.2}},\"type\":\"bar\"}],\"scattergeo\":[{\"type\":\"scattergeo\",\"marker\":{\"colorbar\":{\"outlinewidth\":0,\"ticks\":\"\"}}}],\"scatterpolar\":[{\"type\":\"scatterpolar\",\"marker\":{\"colorbar\":{\"outlinewidth\":0,\"ticks\":\"\"}}}],\"histogram\":[{\"marker\":{\"pattern\":{\"fillmode\":\"overlay\",\"size\":10,\"solidity\":0.2}},\"type\":\"histogram\"}],\"scattergl\":[{\"type\":\"scattergl\",\"marker\":{\"colorbar\":{\"outlinewidth\":0,\"ticks\":\"\"}}}],\"scatter3d\":[{\"type\":\"scatter3d\",\"line\":{\"colorbar\":{\"outlinewidth\":0,\"ticks\":\"\"}},\"marker\":{\"colorbar\":{\"outlinewidth\":0,\"ticks\":\"\"}}}],\"scattermapbox\":[{\"type\":\"scattermapbox\",\"marker\":{\"colorbar\":{\"outlinewidth\":0,\"ticks\":\"\"}}}],\"scatterternary\":[{\"type\":\"scatterternary\",\"marker\":{\"colorbar\":{\"outlinewidth\":0,\"ticks\":\"\"}}}],\"scattercarpet\":[{\"type\":\"scattercarpet\",\"marker\":{\"colorbar\":{\"outlinewidth\":0,\"ticks\":\"\"}}}],\"carpet\":[{\"aaxis\":{\"endlinecolor\":\"#2a3f5f\",\"gridcolor\":\"white\",\"linecolor\":\"white\",\"minorgridcolor\":\"white\",\"startlinecolor\":\"#2a3f5f\"},\"baxis\":{\"endlinecolor\":\"#2a3f5f\",\"gridcolor\":\"white\",\"linecolor\":\"white\",\"minorgridcolor\":\"white\",\"startlinecolor\":\"#2a3f5f\"},\"type\":\"carpet\"}],\"table\":[{\"cells\":{\"fill\":{\"color\":\"#EBF0F8\"},\"line\":{\"color\":\"white\"}},\"header\":{\"fill\":{\"color\":\"#C8D4E3\"},\"line\":{\"color\":\"white\"}},\"type\":\"table\"}],\"barpolar\":[{\"marker\":{\"line\":{\"color\":\"#E5ECF6\",\"width\":0.5},\"pattern\":{\"fillmode\":\"overlay\",\"size\":10,\"solidity\":0.2}},\"type\":\"barpolar\"}],\"pie\":[{\"automargin\":true,\"type\":\"pie\"}]},\"layout\":{\"autotypenumbers\":\"strict\",\"colorway\":[\"#636efa\",\"#EF553B\",\"#00cc96\",\"#ab63fa\",\"#FFA15A\",\"#19d3f3\",\"#FF6692\",\"#B6E880\",\"#FF97FF\",\"#FECB52\"],\"font\":{\"color\":\"#2a3f5f\"},\"hovermode\":\"closest\",\"hoverlabel\":{\"align\":\"left\"},\"paper_bgcolor\":\"white\",\"plot_bgcolor\":\"#E5ECF6\",\"polar\":{\"bgcolor\":\"#E5ECF6\",\"angularaxis\":{\"gridcolor\":\"white\",\"linecolor\":\"white\",\"ticks\":\"\"},\"radialaxis\":{\"gridcolor\":\"white\",\"linecolor\":\"white\",\"ticks\":\"\"}},\"ternary\":{\"bgcolor\":\"#E5ECF6\",\"aaxis\":{\"gridcolor\":\"white\",\"linecolor\":\"white\",\"ticks\":\"\"},\"baxis\":{\"gridcolor\":\"white\",\"linecolor\":\"white\",\"ticks\":\"\"},\"caxis\":{\"gridcolor\":\"white\",\"linecolor\":\"white\",\"ticks\":\"\"}},\"coloraxis\":{\"colorbar\":{\"outlinewidth\":0,\"ticks\":\"\"}},\"colorscale\":{\"sequential\":[[0.0,\"#0d0887\"],[0.1111111111111111,\"#46039f\"],[0.2222222222222222,\"#7201a8\"],[0.3333333333333333,\"#9c179e\"],[0.4444444444444444,\"#bd3786\"],[0.5555555555555556,\"#d8576b\"],[0.6666666666666666,\"#ed7953\"],[0.7777777777777778,\"#fb9f3a\"],[0.8888888888888888,\"#fdca26\"],[1.0,\"#f0f921\"]],\"sequentialminus\":[[0.0,\"#0d0887\"],[0.1111111111111111,\"#46039f\"],[0.2222222222222222,\"#7201a8\"],[0.3333333333333333,\"#9c179e\"],[0.4444444444444444,\"#bd3786\"],[0.5555555555555556,\"#d8576b\"],[0.6666666666666666,\"#ed7953\"],[0.7777777777777778,\"#fb9f3a\"],[0.8888888888888888,\"#fdca26\"],[1.0,\"#f0f921\"]],\"diverging\":[[0,\"#8e0152\"],[0.1,\"#c51b7d\"],[0.2,\"#de77ae\"],[0.3,\"#f1b6da\"],[0.4,\"#fde0ef\"],[0.5,\"#f7f7f7\"],[0.6,\"#e6f5d0\"],[0.7,\"#b8e186\"],[0.8,\"#7fbc41\"],[0.9,\"#4d9221\"],[1,\"#276419\"]]},\"xaxis\":{\"gridcolor\":\"white\",\"linecolor\":\"white\",\"ticks\":\"\",\"title\":{\"standoff\":15},\"zerolinecolor\":\"white\",\"automargin\":true,\"zerolinewidth\":2},\"yaxis\":{\"gridcolor\":\"white\",\"linecolor\":\"white\",\"ticks\":\"\",\"title\":{\"standoff\":15},\"zerolinecolor\":\"white\",\"automargin\":true,\"zerolinewidth\":2},\"scene\":{\"xaxis\":{\"backgroundcolor\":\"#E5ECF6\",\"gridcolor\":\"white\",\"linecolor\":\"white\",\"showbackground\":true,\"ticks\":\"\",\"zerolinecolor\":\"white\",\"gridwidth\":2},\"yaxis\":{\"backgroundcolor\":\"#E5ECF6\",\"gridcolor\":\"white\",\"linecolor\":\"white\",\"showbackground\":true,\"ticks\":\"\",\"zerolinecolor\":\"white\",\"gridwidth\":2},\"zaxis\":{\"backgroundcolor\":\"#E5ECF6\",\"gridcolor\":\"white\",\"linecolor\":\"white\",\"showbackground\":true,\"ticks\":\"\",\"zerolinecolor\":\"white\",\"gridwidth\":2}},\"shapedefaults\":{\"line\":{\"color\":\"#2a3f5f\"}},\"annotationdefaults\":{\"arrowcolor\":\"#2a3f5f\",\"arrowhead\":0,\"arrowwidth\":1},\"geo\":{\"bgcolor\":\"white\",\"landcolor\":\"#E5ECF6\",\"subunitcolor\":\"white\",\"showland\":true,\"showlakes\":true,\"lakecolor\":\"white\"},\"title\":{\"x\":0.05},\"mapbox\":{\"style\":\"light\"}}},\"legend\":{\"tracegroupgap\":0},\"margin\":{\"t\":60},\"width\":600,\"height\":800},                        {\"responsive\": true}                    ).then(function(){\n",
       "                            \n",
       "var gd = document.getElementById('910ae40c-5b87-44ea-a957-7d1fc86b9fb1');\n",
       "var x = new MutationObserver(function (mutations, observer) {{\n",
       "        var display = window.getComputedStyle(gd).display;\n",
       "        if (!display || display === 'none') {{\n",
       "            console.log([gd, 'removed!']);\n",
       "            Plotly.purge(gd);\n",
       "            observer.disconnect();\n",
       "        }}\n",
       "}});\n",
       "\n",
       "// Listen for the removal of the full notebook cells\n",
       "var notebookContainer = gd.closest('#notebook-container');\n",
       "if (notebookContainer) {{\n",
       "    x.observe(notebookContainer, {childList: true});\n",
       "}}\n",
       "\n",
       "// Listen for the clearing of the current output cell\n",
       "var outputEl = gd.closest('.output');\n",
       "if (outputEl) {{\n",
       "    x.observe(outputEl, {childList: true});\n",
       "}}\n",
       "\n",
       "                        })                };                });            </script>        </div>"
      ]
     },
     "metadata": {},
     "output_type": "display_data"
    }
   ],
   "source": [
    "df = subset2\n",
    "df['Market_Cap']=df['Market_Cap'].astype('float')\n",
    "color_group = [-1,-0.02,-0.01,0, 0.01, 0.02,1]\n",
    "df['colors'] = pd.cut(df['Delta'], bins=color_group, labels=['red','indianred','gray','lightgreen','lime','green'])\n",
    "fig = px.treemap(df, path=[px.Constant('all'), 'Sector', 'Ticker'], values='Market_Cap',\n",
    "                  color='colors', hover_data=['Delta'],\n",
    "                  color_discrete_map={'(?)':'#262931', 'red':'red', 'indianred':'indianred','gray':'gray', 'lightgreen':'lightgreen','lime':'lime','green':'green'},\n",
    "                 \n",
    "                  #color_continuous_midpoint=np.average(df['lifeExp'], weights=df['pop'])\n",
    "                )\n",
    "fig.update_layout( width=600, height=800)\n",
    "fig.show()"
   ]
  },
  {
   "cell_type": "code",
   "execution_count": null,
   "metadata": {},
   "outputs": [],
   "source": []
  }
 ],
 "metadata": {
  "kernelspec": {
   "display_name": "Python 3 (ipykernel)",
   "language": "python",
   "name": "python3"
  },
  "language_info": {
   "codemirror_mode": {
    "name": "ipython",
    "version": 3
   },
   "file_extension": ".py",
   "mimetype": "text/x-python",
   "name": "python",
   "nbconvert_exporter": "python",
   "pygments_lexer": "ipython3",
   "version": "3.12.0"
  }
 },
 "nbformat": 4,
 "nbformat_minor": 4
}
