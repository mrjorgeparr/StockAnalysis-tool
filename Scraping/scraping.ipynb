{
 "cells": [
  {
   "cell_type": "markdown",
   "id": "ec98ded8",
   "metadata": {},
   "source": [
    "# Setting up Helper functions and constants\n"
   ]
  },
  {
   "cell_type": "code",
   "execution_count": 63,
   "id": "fa97f0c1",
   "metadata": {},
   "outputs": [],
   "source": [
    "def financial_data_scraping_format(metric):\n",
    "    return 'td[data-test=\"' + metric + '\"]'\n",
    "\n",
    "\n",
    "\n",
    "class Tickerinfo(object):  # for additional type security\n",
    "    \n",
    "    def __init__(self, name, url):\n",
    "        self.name = name\n",
    "        self.url = url\n",
    "        #prev_close = None\n",
    "        \n",
    "\n",
    "# add metrics-key from html here\n",
    "PREV_CLOSE_SCRAPING = \"PREV_CLOSE-value\"\n",
    "OPEN_SCRAPING = \"OPEN-value\"\n",
    "\n"
   ]
  },
  {
   "cell_type": "markdown",
   "id": "8fa12435",
   "metadata": {},
   "source": [
    "# Scraping (trending) tickers form yahoo\n",
    "\n",
    "TODO: which tickers? (currently only \"trending\"!)"
   ]
  },
  {
   "cell_type": "code",
   "execution_count": 64,
   "id": "2cfc29a0",
   "metadata": {},
   "outputs": [],
   "source": [
    "import requests\n",
    "from bs4 import BeautifulSoup\n",
    "\n",
    "base = 'https://finance.yahoo.com'\n",
    "trending = '/trending-tickers'\n",
    "response = requests.get(base+trending)\n",
    "\n",
    "assert(response.status_code == 200)\n",
    "\n",
    "soup = BeautifulSoup(response.text, 'html.parser')\n",
    "tab = soup.find('tbody')\n",
    "tickers = []\n",
    "assert(tab)\n",
    "elements = tab.find_all('tr')\n",
    "links = [e.find('a') for e in elements]\n",
    "\n",
    "for l in links:\n",
    "    tickers.append(Tickerinfo(l.text, l.get('href')))\n",
    "\n",
    "    \n",
    "# output as dict\n",
    "#for t in tickers:\n",
    "#    print(t.__dict__)\n",
    "\n"
   ]
  },
  {
   "cell_type": "markdown",
   "id": "05ac0cec",
   "metadata": {},
   "source": [
    "# Scraping financial metrics for every ticker\n",
    "\n",
    "TODO: define and add necessary metrics\n",
    "    \n",
    "## currently used:\n",
    "    - previous close\n",
    "    - open\n",
    "    "
   ]
  },
  {
   "cell_type": "code",
   "execution_count": 66,
   "id": "d001418e",
   "metadata": {},
   "outputs": [
    {
     "name": "stdout",
     "output_type": "stream",
     "text": [
      "getting metrics for ticker: TSLA\n",
      "getting metrics for ticker: FSR\n",
      "getting metrics for ticker: SE\n",
      "getting metrics for ticker: RIVN\n",
      "getting metrics for ticker: NVDA\n",
      "getting metrics for ticker: VIPS\n",
      "getting metrics for ticker: TENX\n",
      "getting metrics for ticker: ONON\n",
      "getting metrics for ticker: HD\n",
      "getting metrics for ticker: AIRE\n",
      "getting metrics for ticker: SNAP\n",
      "getting metrics for ticker: TECK\n",
      "getting metrics for ticker: NA9.DE\n",
      "getting metrics for ticker: ACRS\n",
      "getting metrics for ticker: TCRT\n",
      "getting metrics for ticker: SKIN\n",
      "getting metrics for ticker: DWAC\n",
      "getting metrics for ticker: GDHG\n",
      "getting metrics for ticker: THRX\n",
      "getting metrics for ticker: ARVL\n",
      "getting metrics for ticker: EVGO\n",
      "getting metrics for ticker: G13.SI\n",
      "getting metrics for ticker: NEGG\n",
      "getting metrics for ticker: ASXC\n",
      "getting metrics for ticker: XPEV\n",
      "getting metrics for ticker: XRP-USD\n",
      "getting metrics for ticker: CELH\n",
      "getting metrics for ticker: WISE.L\n",
      "getting metrics for ticker: ORP.PA\n",
      "getting metrics for ticker: NKLA\n",
      "getting metrics done\n"
     ]
    }
   ],
   "source": [
    "def scrape_financial_metric(soup, key):\n",
    "    return soup.select(financial_data_scraping_format(key))[0].string  # TODO: check for errors here!\n",
    "\n",
    "\n",
    "# For each ticker find corresponding features\n",
    "for t in tickers:\n",
    "    print(\"getting metrics for ticker: \"+ t.name)\n",
    "    #if t in ['TSLA', 'FSR', 'RIVN']:   # just decrease amout for testing\n",
    "        \n",
    "    url = base + t.url\n",
    "    response = requests.get(url)\n",
    "    if response.status_code != 200:\n",
    "     print('error retrieving data for ', t.name)\n",
    "     continue\n",
    "\n",
    "    soup = BeautifulSoup(response.text, 'html.parser')\n",
    "\n",
    "    t.prev_close = scrape_financial_metric(soup, PREV_CLOSE_SCRAPING)\n",
    "    t.open = scrape_financial_metric(soup, OPEN_SCRAPING)\n",
    "    # TODO additional metrics\n",
    "\n",
    "print(\"getting metrics done\")"
   ]
  },
  {
   "cell_type": "markdown",
   "id": "f8cf293e",
   "metadata": {},
   "source": [
    "# Output the tickers with data"
   ]
  },
  {
   "cell_type": "code",
   "execution_count": 67,
   "id": "974a65b4",
   "metadata": {},
   "outputs": [
    {
     "name": "stdout",
     "output_type": "stream",
     "text": [
      "{'name': 'TSLA', 'url': '/quote/TSLA?p=TSLA', 'prev_close': '214.65', 'open': '215.60'}\n",
      "{'name': 'FSR', 'url': '/quote/FSR?p=FSR', 'prev_close': '3.8400', 'open': '3.9300'}\n",
      "{'name': 'SE', 'url': '/quote/SE?p=SE', 'prev_close': '45.48', 'open': '45.50'}\n",
      "{'name': 'RIVN', 'url': '/quote/RIVN?p=RIVN', 'prev_close': '15.40', 'open': '15.35'}\n",
      "{'name': 'NVDA', 'url': '/quote/NVDA?p=NVDA', 'prev_close': '483.35', 'open': '483.20'}\n",
      "{'name': 'VIPS', 'url': '/quote/VIPS?p=VIPS', 'prev_close': '14.29', 'open': '14.07'}\n",
      "{'name': 'TENX', 'url': '/quote/TENX?p=TENX', 'prev_close': '0.1560', 'open': '0.3126'}\n",
      "{'name': 'ONON', 'url': '/quote/ONON?p=ONON', 'prev_close': '26.90', 'open': '26.94'}\n",
      "{'name': 'HD', 'url': '/quote/HD?p=HD', 'prev_close': '291.59', 'open': '287.79'}\n",
      "{'name': 'AIRE', 'url': '/quote/AIRE?p=AIRE', 'prev_close': '4.40', 'open': '4.60'}\n",
      "{'name': 'SNAP', 'url': '/quote/SNAP?p=SNAP', 'prev_close': '11.32', 'open': '11.33'}\n",
      "{'name': 'TECK', 'url': '/quote/TECK?p=TECK', 'prev_close': '35.37', 'open': '35.61'}\n",
      "{'name': 'NA9.DE', 'url': '/quote/NA9.DE?p=NA9.DE', 'prev_close': '76.05', 'open': '75.00'}\n",
      "{'name': 'ACRS', 'url': '/quote/ACRS?p=ACRS', 'prev_close': '4.7550', 'open': '0.7000'}\n",
      "{'name': 'TCRT', 'url': '/quote/TCRT?p=TCRT', 'prev_close': '0.0949', 'open': '0.0921'}\n",
      "{'name': 'SKIN', 'url': '/quote/SKIN?p=SKIN', 'prev_close': '3.6000', 'open': '3.5800'}\n",
      "{'name': 'DWAC', 'url': '/quote/DWAC?p=DWAC', 'prev_close': '15.14', 'open': '15.06'}\n",
      "{'name': 'GDHG', 'url': '/quote/GDHG?p=GDHG', 'prev_close': '23.75', 'open': '23.00'}\n",
      "{'name': 'THRX', 'url': '/quote/THRX?p=THRX', 'prev_close': '2.1200', 'open': '2.0500'}\n",
      "{'name': 'ARVL', 'url': '/quote/ARVL?p=ARVL', 'prev_close': '1.0600', 'open': '1.0700'}\n",
      "{'name': 'EVGO', 'url': '/quote/EVGO?p=EVGO', 'prev_close': '2.5200', 'open': '2.5200'}\n",
      "{'name': 'G13.SI', 'url': '/quote/G13.SI?p=G13.SI', 'prev_close': '0.8500', 'open': '0.8800'}\n",
      "{'name': 'NEGG', 'url': '/quote/NEGG?p=NEGG', 'prev_close': '0.5552', 'open': '0.5571'}\n",
      "{'name': 'ASXC', 'url': '/quote/ASXC?p=ASXC', 'prev_close': '0.2100', 'open': '0.2100'}\n",
      "{'name': 'XPEV', 'url': '/quote/XPEV?p=XPEV', 'prev_close': '15.26', 'open': '15.50'}\n",
      "{'name': 'XRP-USD', 'url': '/quote/XRP-USD?p=XRP-USD', 'prev_close': '0.671494', 'open': '0.671494'}\n",
      "{'name': 'CELH', 'url': '/quote/CELH?p=CELH', 'prev_close': '172.50', 'open': '172.69'}\n",
      "{'name': 'WISE.L', 'url': '/quote/WISE.L?p=WISE.L', 'prev_close': '688.60', 'open': '700.00'}\n",
      "{'name': 'ORP.PA', 'url': '/quote/ORP.PA?p=ORP.PA', 'prev_close': '0.0610', 'open': '1.0000'}\n",
      "{'name': 'NKLA', 'url': '/quote/NKLA?p=NKLA', 'prev_close': '0.9657', 'open': '0.9657'}\n"
     ]
    }
   ],
   "source": [
    "\n",
    "# output as dict\n",
    "for t in tickers:\n",
    "    print(t.__dict__)\n"
   ]
  },
  {
   "cell_type": "code",
   "execution_count": null,
   "id": "4495242a",
   "metadata": {},
   "outputs": [],
   "source": []
  }
 ],
 "metadata": {
  "kernelspec": {
   "display_name": "Python 3 (ipykernel)",
   "language": "python",
   "name": "python3"
  },
  "language_info": {
   "codemirror_mode": {
    "name": "ipython",
    "version": 3
   },
   "file_extension": ".py",
   "mimetype": "text/x-python",
   "name": "python",
   "nbconvert_exporter": "python",
   "pygments_lexer": "ipython3",
   "version": "3.10.13"
  }
 },
 "nbformat": 4,
 "nbformat_minor": 5
}
