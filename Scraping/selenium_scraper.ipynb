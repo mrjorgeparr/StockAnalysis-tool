{
 "cells": [
  {
   "cell_type": "code",
   "execution_count": 58,
   "id": "f7b36da4",
   "metadata": {},
   "outputs": [
    {
     "name": "stdout",
     "output_type": "stream",
     "text": [
      "Requirement already satisfied: selenium in c:\\users\\bened\\anaconda3\\envs\\webanalytics\\lib\\site-packages (4.15.2)\n",
      "Requirement already satisfied: urllib3<3,>=1.26 in c:\\users\\bened\\anaconda3\\envs\\webanalytics\\lib\\site-packages (from urllib3[socks]<3,>=1.26->selenium) (2.1.0)\n",
      "Requirement already satisfied: trio~=0.17 in c:\\users\\bened\\anaconda3\\envs\\webanalytics\\lib\\site-packages (from selenium) (0.23.1)\n",
      "Requirement already satisfied: trio-websocket~=0.9 in c:\\users\\bened\\anaconda3\\envs\\webanalytics\\lib\\site-packages (from selenium) (0.11.1)\n",
      "Requirement already satisfied: certifi>=2021.10.8 in c:\\users\\bened\\anaconda3\\envs\\webanalytics\\lib\\site-packages (from selenium) (2023.7.22)\n",
      "Requirement already satisfied: attrs>=20.1.0 in c:\\users\\bened\\anaconda3\\envs\\webanalytics\\lib\\site-packages (from trio~=0.17->selenium) (23.1.0)\n",
      "Requirement already satisfied: sortedcontainers in c:\\users\\bened\\anaconda3\\envs\\webanalytics\\lib\\site-packages (from trio~=0.17->selenium) (2.4.0)\n",
      "Requirement already satisfied: idna in c:\\users\\bened\\anaconda3\\envs\\webanalytics\\lib\\site-packages (from trio~=0.17->selenium) (3.4)\n",
      "Requirement already satisfied: outcome in c:\\users\\bened\\anaconda3\\envs\\webanalytics\\lib\\site-packages (from trio~=0.17->selenium) (1.3.0.post0)\n",
      "Requirement already satisfied: sniffio>=1.3.0 in c:\\users\\bened\\anaconda3\\envs\\webanalytics\\lib\\site-packages (from trio~=0.17->selenium) (1.3.0)\n",
      "Requirement already satisfied: cffi>=1.14 in c:\\users\\bened\\anaconda3\\envs\\webanalytics\\lib\\site-packages (from trio~=0.17->selenium) (1.15.1)\n",
      "Requirement already satisfied: exceptiongroup>=1.0.0rc9 in c:\\users\\bened\\anaconda3\\envs\\webanalytics\\lib\\site-packages (from trio~=0.17->selenium) (1.0.4)\n",
      "Requirement already satisfied: wsproto>=0.14 in c:\\users\\bened\\anaconda3\\envs\\webanalytics\\lib\\site-packages (from trio-websocket~=0.9->selenium) (1.2.0)\n",
      "Requirement already satisfied: pysocks!=1.5.7,<2.0,>=1.5.6 in c:\\users\\bened\\anaconda3\\envs\\webanalytics\\lib\\site-packages (from urllib3[socks]<3,>=1.26->selenium) (1.7.1)\n",
      "Requirement already satisfied: pycparser in c:\\users\\bened\\anaconda3\\envs\\webanalytics\\lib\\site-packages (from cffi>=1.14->trio~=0.17->selenium) (2.21)\n",
      "Requirement already satisfied: h11<1,>=0.9.0 in c:\\users\\bened\\anaconda3\\envs\\webanalytics\\lib\\site-packages (from wsproto>=0.14->trio-websocket~=0.9->selenium) (0.14.0)\n"
     ]
    }
   ],
   "source": [
    "#!apt update\n",
    "#!apt install chromium-chromedriver\n",
    "!pip install selenium\n",
    "\n",
    "from selenium import webdriver\n",
    "from selenium.webdriver.common.by import By\n",
    "from selenium.webdriver.support.wait import WebDriverWait\n"
   ]
  },
  {
   "cell_type": "code",
   "execution_count": 59,
   "id": "4d3dd846",
   "metadata": {},
   "outputs": [],
   "source": [
    "def get_metrics_from_site(driver, metrics_by_label):\n",
    "    metrics = []\n",
    "    \n",
    "    metrics_body = driver.find_element(By.ID, 'Col1-0-KeyStatistics-Proxy')\n",
    "    #print(metrics_body.text)\n",
    "    \n",
    "    \n",
    "    for metric_label in metrics_by_label:\n",
    "        market_cap_element = metrics_body.find_element(By.XPATH, \"//tr[contains(., '\"+metric_label+\"')]\")\n",
    "        child_elements = market_cap_element.find_elements(By.XPATH, \"./*\")\n",
    "\n",
    "        assert(len(child_elements) == 2)\n",
    "        metrics.append((child_elements[0].text, child_elements[1].text))  # TODO return metric_label value (but be aware of the contains-search!)\n",
    "\n",
    "    return metrics\n",
    "    "
   ]
  },
  {
   "cell_type": "code",
   "execution_count": 63,
   "id": "79ec7db7",
   "metadata": {},
   "outputs": [],
   "source": [
    "# supporting class with constants from the website (keys etc.)\n",
    "class Metrics(object):\n",
    "    \n",
    "    # Valuation Measures\n",
    "    MARKET_CAP = 'Market Cap'\n",
    "    ENTERPRISE_VALUE = 'Enterprise Value'\n",
    "    \n",
    "    \n",
    "    # Profitability\n",
    "    PM = \"Profit Margin\"\n",
    "    OM = \"Operating Margin\"\n",
    "    \n",
    "    # Management Effectiveness\n",
    "    ROA = \"Return on Assets\"\n",
    "    ROE = \"Return on Equity\"\n",
    "    \n",
    "    # Balance Sheet\n",
    "    TC = \"Total Cash (mrq)\"  # CAUTION! search only by contains, not equals!\n",
    "    TCPS = \"Total Cash Per Share (mrq)\"\n",
    "    TD = \"Total Debt (mrq)\"  # CAUTION! search only by contains, not equals!\n",
    "    TDE = \"Total Debt/Equity (mrq)\"\n",
    "    # ...\n",
    "    \n",
    "    # Cash Flow Statement\n",
    "    OCF = \"Operating Cash Flow\"\n",
    "    LFCF = \"Levered Free Cash Flow\"\n",
    "    \n",
    "    # Dividiens & Splits\n",
    "    FADR = \"Forward Annual Dividend Rate\"\n",
    "    FADY = \"Forward Annual Dividend Yield\"\n",
    "    TADR = \"Trailing Annual Dividend Rate\"\n",
    "    TADY = \"Trailing Annual Dividend Yield\"\n",
    "    Y5ADY = \"5 Year Average Dividend Yield\"\n",
    "    PR = \"Payout Ratio\"\n",
    "    # TODO Dividend Date ...\n",
    "    \n",
    "    \n",
    "    def basics(self):\n",
    "        return [self.MARKET_CAP, self.ENTERPRISE_VALUE]\n",
    "    \n",
    "    def diviends(self):\n",
    "        return [self.FADR, self.FADY, self.TADR, self.TADY, self.Y5ADY, self.PR]\n",
    "    \n",
    "    def dividends_slides(self):\n",
    "        return [self.FADY, self.TADY, self.Y5ADY, self.PR, self.PM, self.ROE, self.TC]\n",
    "    \n",
    "    def stability_slides(self):\n",
    "        return [self.TDE, self.OCF, self.LFCF]\n",
    "    \n",
    "    def from_slides(self):\n",
    "        return self.dividends_slides() + self.stability_slides()"
   ]
  },
  {
   "cell_type": "code",
   "execution_count": 66,
   "id": "63c59c0d",
   "metadata": {
    "scrolled": false
   },
   "outputs": [
    {
     "name": "stdout",
     "output_type": "stream",
     "text": [
      "build of driver finished\n",
      "start scraping metrics for ticker\n",
      "[('Forward Annual Dividend Yield 4', 'N/A'), ('Trailing Annual Dividend Yield 3', '0.00%'), ('5 Year Average Dividend Yield 4', '9.52'), ('Payout Ratio 4', '0.00%'), ('Profit Margin', '-1.72%'), ('Return on Equity (ttm)', '-7.64%'), ('Total Cash (mrq)', '1.19B'), ('Total Debt/Equity (mrq)', '50.13%'), ('Operating Cash Flow (ttm)', '303.7M'), ('Levered Free Cash Flow (ttm)', '381.84M')]\n"
     ]
    }
   ],
   "source": [
    "options = webdriver.ChromeOptions()\n",
    "options.add_argument('--headless') # for not displaying the graphical environment, shows virtualized browser without GUI\n",
    "options.add_argument('--no-sandbox') # so that it can access machine resources, blocking sandbox processes it can access whatever\n",
    "options.add_argument('--disable-dev-shm-usage')  # colab does not have enough memory\n",
    "# open it, go to a website, and get results\n",
    "driver = webdriver.Chrome(options=options)\n",
    "\n",
    "\n",
    "url = \"https://finance.yahoo.com/quote/GME/key-statistics?p=GME\"\n",
    "driver.get(url)\n",
    "\n",
    "print(\"build of driver finished\")\n",
    "\n",
    "metrics = []\n",
    "try:\n",
    "    # Accept cookies by clicking the button with the specified ID\n",
    "    iframe = driver.find_element(By.CLASS_NAME, 'con-wizard')\n",
    "    accept_cookies_button = iframe.find_element(By.CLASS_NAME, 'accept-all')\n",
    "    accept_cookies_button.click()\n",
    "\n",
    "    \n",
    "    # get metric values from website\n",
    "    print(\"start scraping metrics for ticker\")\n",
    "    metrics = get_metrics_from_site(driver, Metrics().from_slides())\n",
    "    \n",
    "    print(metrics)\n",
    "\n",
    "finally:\n",
    "    # Close the WebDriver\n",
    "    driver.quit()\n"
   ]
  },
  {
   "cell_type": "code",
   "execution_count": null,
   "id": "313a4daa",
   "metadata": {},
   "outputs": [],
   "source": []
  },
  {
   "cell_type": "code",
   "execution_count": null,
   "id": "e23809bd",
   "metadata": {},
   "outputs": [],
   "source": []
  }
 ],
 "metadata": {
  "kernelspec": {
   "display_name": "Python 3 (ipykernel)",
   "language": "python",
   "name": "python3"
  },
  "language_info": {
   "codemirror_mode": {
    "name": "ipython",
    "version": 3
   },
   "file_extension": ".py",
   "mimetype": "text/x-python",
   "name": "python",
   "nbconvert_exporter": "python",
   "pygments_lexer": "ipython3",
   "version": "3.10.13"
  }
 },
 "nbformat": 4,
 "nbformat_minor": 5
}
