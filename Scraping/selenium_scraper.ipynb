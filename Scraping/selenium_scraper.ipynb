{
 "cells": [
  {
   "cell_type": "code",
   "execution_count": 1,
   "id": "e2fa6731",
   "metadata": {},
   "outputs": [
    {
     "name": "stdout",
     "output_type": "stream",
     "text": [
      "Requirement already satisfied: selenium in c:\\users\\bened\\anaconda3\\envs\\webanalytics\\lib\\site-packages (4.15.2)\n",
      "Requirement already satisfied: urllib3<3,>=1.26 in c:\\users\\bened\\anaconda3\\envs\\webanalytics\\lib\\site-packages (from urllib3[socks]<3,>=1.26->selenium) (2.1.0)\n",
      "Requirement already satisfied: trio~=0.17 in c:\\users\\bened\\anaconda3\\envs\\webanalytics\\lib\\site-packages (from selenium) (0.23.1)\n",
      "Requirement already satisfied: trio-websocket~=0.9 in c:\\users\\bened\\anaconda3\\envs\\webanalytics\\lib\\site-packages (from selenium) (0.11.1)\n",
      "Requirement already satisfied: certifi>=2021.10.8 in c:\\users\\bened\\anaconda3\\envs\\webanalytics\\lib\\site-packages (from selenium) (2023.7.22)\n",
      "Requirement already satisfied: attrs>=20.1.0 in c:\\users\\bened\\anaconda3\\envs\\webanalytics\\lib\\site-packages (from trio~=0.17->selenium) (23.1.0)\n",
      "Requirement already satisfied: sortedcontainers in c:\\users\\bened\\anaconda3\\envs\\webanalytics\\lib\\site-packages (from trio~=0.17->selenium) (2.4.0)\n",
      "Requirement already satisfied: idna in c:\\users\\bened\\anaconda3\\envs\\webanalytics\\lib\\site-packages (from trio~=0.17->selenium) (3.4)\n",
      "Requirement already satisfied: outcome in c:\\users\\bened\\anaconda3\\envs\\webanalytics\\lib\\site-packages (from trio~=0.17->selenium) (1.3.0.post0)\n",
      "Requirement already satisfied: sniffio>=1.3.0 in c:\\users\\bened\\anaconda3\\envs\\webanalytics\\lib\\site-packages (from trio~=0.17->selenium) (1.3.0)\n",
      "Requirement already satisfied: cffi>=1.14 in c:\\users\\bened\\anaconda3\\envs\\webanalytics\\lib\\site-packages (from trio~=0.17->selenium) (1.15.1)\n",
      "Requirement already satisfied: exceptiongroup>=1.0.0rc9 in c:\\users\\bened\\anaconda3\\envs\\webanalytics\\lib\\site-packages (from trio~=0.17->selenium) (1.0.4)\n",
      "Requirement already satisfied: wsproto>=0.14 in c:\\users\\bened\\anaconda3\\envs\\webanalytics\\lib\\site-packages (from trio-websocket~=0.9->selenium) (1.2.0)\n",
      "Requirement already satisfied: pysocks!=1.5.7,<2.0,>=1.5.6 in c:\\users\\bened\\anaconda3\\envs\\webanalytics\\lib\\site-packages (from urllib3[socks]<3,>=1.26->selenium) (1.7.1)\n",
      "Requirement already satisfied: pycparser in c:\\users\\bened\\anaconda3\\envs\\webanalytics\\lib\\site-packages (from cffi>=1.14->trio~=0.17->selenium) (2.21)\n",
      "Requirement already satisfied: h11<1,>=0.9.0 in c:\\users\\bened\\anaconda3\\envs\\webanalytics\\lib\\site-packages (from wsproto>=0.14->trio-websocket~=0.9->selenium) (0.14.0)\n"
     ]
    }
   ],
   "source": [
    "#!apt update\n",
    "#!apt install chromium-chromedriver\n",
    "!pip install selenium\n",
    "\n",
    "from selenium import webdriver\n",
    "from selenium.webdriver.common.by import By\n",
    "from selenium.webdriver.support.wait import WebDriverWait\n",
    "\n",
    "import pandas as pd"
   ]
  },
  {
   "cell_type": "code",
   "execution_count": 46,
   "id": "42394021",
   "metadata": {},
   "outputs": [],
   "source": [
    "\n",
    "def extract_value_from_format(input):\n",
    "    value = None\n",
    "\n",
    "    if \"%\" in input:\n",
    "        value = float(input.replace(\"%\", \"\"))\n",
    "    elif \"M\" in input:\n",
    "        value = float(input.replace(\"M\", \"\")) * 1000 * 1000\n",
    "    elif \"B\" in input:\n",
    "        value = float(input.replace(\"B\", \"\")) * 1000 * 1000 * 1000\n",
    "    elif input.replace('.','',1).isdigit():\n",
    "        value = float(input)\n",
    "    elif \"N/A\" in input:\n",
    "        pass  # value = None\n",
    "\n",
    "\n",
    "    else:\n",
    "        print(\"input not preprocessed: \", input)\n",
    "\n",
    "    return value"
   ]
  },
  {
   "cell_type": "code",
   "execution_count": 43,
   "id": "168cd34e",
   "metadata": {},
   "outputs": [],
   "source": [
    "def get_key_from_metric_label(label):\n",
    "    return label.replace(\" \", \"_\")\n",
    "\n",
    "def add_metrics_from_site(driver, metrics, metrics_by_label):\n",
    "    \n",
    "    if len(driver.find_elements(By.ID, 'Col1-0-KeyStatistics-Proxy')) == 0:\n",
    "        print(\"ERROR: no key-statistics page found! Returns empty metrics\")\n",
    "        return metrics + [None] * (len(metrics_by_label) - 1) # return placeholders\n",
    "    \n",
    "    \n",
    "    metrics_body = driver.find_element(By.ID, 'Col1-0-KeyStatistics-Proxy')\n",
    "    \n",
    "    for metric_label in metrics_by_label:\n",
    "        if metric_label == Metrics.TICKER: # tickername only for dataframe-label reasons. Maybe change logic to more sothisticated list \n",
    "            continue\n",
    "            \n",
    "        market_cap_element = metrics_body.find_element(By.XPATH, \"//tr[contains(., '\"+metric_label+\"')]\")\n",
    "        child_elements = market_cap_element.find_elements(By.XPATH, \"./*\")\n",
    "\n",
    "        assert(len(child_elements) == 2)\n",
    "        \n",
    "        # extract values from format\n",
    "        value = extract_value_from_format(child_elements[1].text) \n",
    "        metrics.append(value)\n",
    "        #metrics.append(child_elements[1].text)\n",
    "        \n",
    "        # TODO!\n",
    "        #if get_key_from_metric_label(child_elements[0].text) != metric_label:\n",
    "        #    print(\"Caution: modified metric-name from website \" + get_key_from_metric_label(child_elements[0].text) + \" differs from the used column-key: \"+ metric_label )\n",
    "        \n",
    "        \n",
    "        #metrics[get_key_from_metric_label(child_elements[0].text)] = child_elements[1].text\n",
    "        #metrics.append((child_elements[0].text, child_elements[1].text))  # TODO return metric_label value (but be aware of the contains-search!)\n",
    "\n",
    "    return metrics\n",
    "    "
   ]
  },
  {
   "cell_type": "code",
   "execution_count": null,
   "id": "e8b28259",
   "metadata": {},
   "outputs": [],
   "source": []
  },
  {
   "cell_type": "code",
   "execution_count": 38,
   "id": "a2f5e125",
   "metadata": {},
   "outputs": [],
   "source": [
    "# supporting class with constants from the website (keys etc.)\n",
    "class Metrics(object):\n",
    "    \n",
    "    # Valuation Measures\n",
    "    MARKET_CAP = 'Market Cap'\n",
    "    MARKET_CAP_KEY = 'Market_Cap'\n",
    "    ENTERPRISE_VALUE = 'Enterprise Value'\n",
    "    ENTERPRISE_VALUE_KEY = 'Enterprise_Value'\n",
    "    \n",
    "    \n",
    "    # Profitability\n",
    "    PM = \"Profit Margin\"\n",
    "    OM = \"Operating Margin\"\n",
    "    \n",
    "    # Management Effectiveness\n",
    "    ROA = \"Return on Assets\"\n",
    "    ROE = \"Return on Equity\"\n",
    "    \n",
    "    # Balance Sheet\n",
    "    TC = \"Total Cash (mrq)\"  # CAUTION! search only by contains, not equals!\n",
    "    TCPS = \"Total Cash Per Share (mrq)\"\n",
    "    TD = \"Total Debt (mrq)\"  # CAUTION! search only by contains, not equals!\n",
    "    TDE = \"Total Debt/Equity (mrq)\"\n",
    "    # ...\n",
    "    \n",
    "    # Cash Flow Statement\n",
    "    OCF = \"Operating Cash Flow\"\n",
    "    LFCF = \"Levered Free Cash Flow\"\n",
    "    \n",
    "    # Dividiens & Splits\n",
    "    FADR = \"Forward Annual Dividend Rate\"\n",
    "    FADY = \"Forward Annual Dividend Yield\"\n",
    "    TADR = \"Trailing Annual Dividend Rate\"\n",
    "    TADY = \"Trailing Annual Dividend Yield\"\n",
    "    Y5ADY = \"5 Year Average Dividend Yield\"\n",
    "    PR = \"Payout Ratio\"\n",
    "    # ...\n",
    "    \n",
    "    base = []\n",
    "    TICKER = \"Ticker\"\n",
    "    \n",
    "    \n",
    "    def __init__(self):\n",
    "        self.base = [self.TICKER]\n",
    "    \n",
    "    def basics(self, addBase=False):\n",
    "        if addBase:\n",
    "            return self.base + [self.MARKET_CAP, self.ENTERPRISE_VALUE]\n",
    "        else:\n",
    "            return [self.MARKET_CAP, self.ENTERPRISE_VALUE]\n",
    "    \n",
    "    def diviends(self, addBase=False):\n",
    "        if addBase:\n",
    "            return self.base + [self.FADR, self.FADY, self.TADR, self.TADY, self.Y5ADY, self.PR]\n",
    "        else:\n",
    "            return [self.FADR, self.FADY, self.TADR, self.TADY, self.Y5ADY, self.PR]\n",
    "        \n",
    "    \n",
    "    def dividends_slides(self, addBase=False):\n",
    "        if addBase:\n",
    "            return self.base + [self.FADY, self.TADY, self.Y5ADY, self.PR, self.PM, self.ROE, self.TC]\n",
    "        else:\n",
    "            return [self.FADY, self.TADY, self.Y5ADY, self.PR, self.PM, self.ROE, self.TC]\n",
    "    \n",
    "    def stability_slides(self, addBase=False):\n",
    "        if addBase:\n",
    "            return self.base + [self.TDE, self.OCF, self.LFCF]\n",
    "        else:\n",
    "            return [self.TDE, self.OCF, self.LFCF]\n",
    "    \n",
    "    def from_slides(self):\n",
    "        return self.dividends_slides(addBase=True) + self.stability_slides()\n",
    "    \n",
    "    \n",
    "\n",
    "class Tickerinfo(object):  # for additional type security\n",
    "    \n",
    "    def __init__(self, name, url):\n",
    "        self.name = name\n",
    "        self.url = url\n",
    "        "
   ]
  },
  {
   "cell_type": "code",
   "execution_count": null,
   "id": "d5b50bf5",
   "metadata": {},
   "outputs": [],
   "source": []
  },
  {
   "cell_type": "code",
   "execution_count": 47,
   "id": "843b3501",
   "metadata": {},
   "outputs": [
    {
     "name": "stdout",
     "output_type": "stream",
     "text": [
      "accept cookies\n",
      "call trending tickers\n",
      "amount of tickers:  30\n",
      "getting tickers finished\n",
      "\n",
      "ticker:  PFE\n",
      "start scraping metrics for ticker from:  https://finance.yahoo.com/quote/PFE/key-statistics?p=PFE\n",
      "\n",
      "ticker:  PATH\n",
      "start scraping metrics for ticker from:  https://finance.yahoo.com/quote/PATH/key-statistics?p=PATH\n"
     ]
    },
    {
     "name": "stderr",
     "output_type": "stream",
     "text": [
      "C:\\Users\\bened\\AppData\\Local\\Temp\\ipykernel_31836\\3239735867.py:60: FutureWarning: The behavior of DataFrame concatenation with empty or all-NA entries is deprecated. In a future version, this will no longer exclude empty or all-NA columns when determining the result dtypes. To retain the old behavior, exclude the relevant entries before the concat operation.\n",
      "  df_metrics.loc[len(df_metrics)] = metrics\n"
     ]
    },
    {
     "name": "stdout",
     "output_type": "stream",
     "text": [
      "\n",
      "ticker:  ULTA\n",
      "start scraping metrics for ticker from:  https://finance.yahoo.com/quote/ULTA/key-statistics?p=ULTA\n"
     ]
    },
    {
     "name": "stderr",
     "output_type": "stream",
     "text": [
      "C:\\Users\\bened\\AppData\\Local\\Temp\\ipykernel_31836\\3239735867.py:60: FutureWarning: The behavior of DataFrame concatenation with empty or all-NA entries is deprecated. In a future version, this will no longer exclude empty or all-NA columns when determining the result dtypes. To retain the old behavior, exclude the relevant entries before the concat operation.\n",
      "  df_metrics.loc[len(df_metrics)] = metrics\n"
     ]
    },
    {
     "name": "stdout",
     "output_type": "stream",
     "text": [
      "\n",
      "ticker:  MRVL\n",
      "start scraping metrics for ticker from:  https://finance.yahoo.com/quote/MRVL/key-statistics?p=MRVL\n",
      "\n",
      "ticker:  ESTC\n",
      "start scraping metrics for ticker from:  https://finance.yahoo.com/quote/ESTC/key-statistics?p=ESTC\n"
     ]
    },
    {
     "name": "stderr",
     "output_type": "stream",
     "text": [
      "C:\\Users\\bened\\AppData\\Local\\Temp\\ipykernel_31836\\3239735867.py:60: FutureWarning: The behavior of DataFrame concatenation with empty or all-NA entries is deprecated. In a future version, this will no longer exclude empty or all-NA columns when determining the result dtypes. To retain the old behavior, exclude the relevant entries before the concat operation.\n",
      "  df_metrics.loc[len(df_metrics)] = metrics\n"
     ]
    },
    {
     "name": "stdout",
     "output_type": "stream",
     "text": [
      "\n",
      "ticker:  BABA\n",
      "start scraping metrics for ticker from:  https://finance.yahoo.com/quote/BABA/key-statistics?p=BABA\n"
     ]
    },
    {
     "name": "stderr",
     "output_type": "stream",
     "text": [
      "C:\\Users\\bened\\AppData\\Local\\Temp\\ipykernel_31836\\3239735867.py:60: FutureWarning: The behavior of DataFrame concatenation with empty or all-NA entries is deprecated. In a future version, this will no longer exclude empty or all-NA columns when determining the result dtypes. To retain the old behavior, exclude the relevant entries before the concat operation.\n",
      "  df_metrics.loc[len(df_metrics)] = metrics\n"
     ]
    },
    {
     "name": "stdout",
     "output_type": "stream",
     "text": [
      "\n",
      "ticker:  ALT\n",
      "start scraping metrics for ticker from:  https://finance.yahoo.com/quote/ALT/key-statistics?p=ALT\n"
     ]
    },
    {
     "name": "stderr",
     "output_type": "stream",
     "text": [
      "C:\\Users\\bened\\AppData\\Local\\Temp\\ipykernel_31836\\3239735867.py:60: FutureWarning: The behavior of DataFrame concatenation with empty or all-NA entries is deprecated. In a future version, this will no longer exclude empty or all-NA columns when determining the result dtypes. To retain the old behavior, exclude the relevant entries before the concat operation.\n",
      "  df_metrics.loc[len(df_metrics)] = metrics\n"
     ]
    },
    {
     "name": "stdout",
     "output_type": "stream",
     "text": [
      "\n",
      "ticker:  U\n",
      "start scraping metrics for ticker from:  https://finance.yahoo.com/quote/U/key-statistics?p=U\n"
     ]
    },
    {
     "name": "stderr",
     "output_type": "stream",
     "text": [
      "C:\\Users\\bened\\AppData\\Local\\Temp\\ipykernel_31836\\3239735867.py:60: FutureWarning: The behavior of DataFrame concatenation with empty or all-NA entries is deprecated. In a future version, this will no longer exclude empty or all-NA columns when determining the result dtypes. To retain the old behavior, exclude the relevant entries before the concat operation.\n",
      "  df_metrics.loc[len(df_metrics)] = metrics\n"
     ]
    },
    {
     "name": "stdout",
     "output_type": "stream",
     "text": [
      "\n",
      "ticker:  BTC-USD\n",
      "start scraping metrics for ticker from:  https://finance.yahoo.com/quote/BTC-USD?p=BTC-USD\n",
      "ERROR: no key-statistics page found! Returns empty metrics\n",
      "\n",
      "ticker:  MARA\n"
     ]
    },
    {
     "name": "stderr",
     "output_type": "stream",
     "text": [
      "C:\\Users\\bened\\AppData\\Local\\Temp\\ipykernel_31836\\3239735867.py:60: FutureWarning: The behavior of DataFrame concatenation with empty or all-NA entries is deprecated. In a future version, this will no longer exclude empty or all-NA columns when determining the result dtypes. To retain the old behavior, exclude the relevant entries before the concat operation.\n",
      "  df_metrics.loc[len(df_metrics)] = metrics\n"
     ]
    },
    {
     "name": "stdout",
     "output_type": "stream",
     "text": [
      "start scraping metrics for ticker from:  https://finance.yahoo.com/quote/MARA/key-statistics?p=MARA\n"
     ]
    },
    {
     "name": "stderr",
     "output_type": "stream",
     "text": [
      "C:\\Users\\bened\\AppData\\Local\\Temp\\ipykernel_31836\\3239735867.py:60: FutureWarning: The behavior of DataFrame concatenation with empty or all-NA entries is deprecated. In a future version, this will no longer exclude empty or all-NA columns when determining the result dtypes. To retain the old behavior, exclude the relevant entries before the concat operation.\n",
      "  df_metrics.loc[len(df_metrics)] = metrics\n"
     ]
    },
    {
     "name": "stdout",
     "output_type": "stream",
     "text": [
      "\n",
      "ticker:  HCDI\n",
      "start scraping metrics for ticker from:  https://finance.yahoo.com/quote/HCDI/key-statistics?p=HCDI\n",
      "\n",
      "ticker:  CLSK\n"
     ]
    },
    {
     "name": "stderr",
     "output_type": "stream",
     "text": [
      "C:\\Users\\bened\\AppData\\Local\\Temp\\ipykernel_31836\\3239735867.py:60: FutureWarning: The behavior of DataFrame concatenation with empty or all-NA entries is deprecated. In a future version, this will no longer exclude empty or all-NA columns when determining the result dtypes. To retain the old behavior, exclude the relevant entries before the concat operation.\n",
      "  df_metrics.loc[len(df_metrics)] = metrics\n"
     ]
    },
    {
     "name": "stdout",
     "output_type": "stream",
     "text": [
      "start scraping metrics for ticker from:  https://finance.yahoo.com/quote/CLSK/key-statistics?p=CLSK\n"
     ]
    },
    {
     "name": "stderr",
     "output_type": "stream",
     "text": [
      "C:\\Users\\bened\\AppData\\Local\\Temp\\ipykernel_31836\\3239735867.py:60: FutureWarning: The behavior of DataFrame concatenation with empty or all-NA entries is deprecated. In a future version, this will no longer exclude empty or all-NA columns when determining the result dtypes. To retain the old behavior, exclude the relevant entries before the concat operation.\n",
      "  df_metrics.loc[len(df_metrics)] = metrics\n"
     ]
    },
    {
     "name": "stdout",
     "output_type": "stream",
     "text": [
      "\n",
      "ticker:  AFRM\n",
      "start scraping metrics for ticker from:  https://finance.yahoo.com/quote/AFRM/key-statistics?p=AFRM\n"
     ]
    },
    {
     "name": "stderr",
     "output_type": "stream",
     "text": [
      "C:\\Users\\bened\\AppData\\Local\\Temp\\ipykernel_31836\\3239735867.py:60: FutureWarning: The behavior of DataFrame concatenation with empty or all-NA entries is deprecated. In a future version, this will no longer exclude empty or all-NA columns when determining the result dtypes. To retain the old behavior, exclude the relevant entries before the concat operation.\n",
      "  df_metrics.loc[len(df_metrics)] = metrics\n"
     ]
    },
    {
     "name": "stdout",
     "output_type": "stream",
     "text": [
      "\n",
      "ticker:  WISH\n",
      "start scraping metrics for ticker from:  https://finance.yahoo.com/quote/WISH/key-statistics?p=WISH\n"
     ]
    },
    {
     "name": "stderr",
     "output_type": "stream",
     "text": [
      "C:\\Users\\bened\\AppData\\Local\\Temp\\ipykernel_31836\\3239735867.py:60: FutureWarning: The behavior of DataFrame concatenation with empty or all-NA entries is deprecated. In a future version, this will no longer exclude empty or all-NA columns when determining the result dtypes. To retain the old behavior, exclude the relevant entries before the concat operation.\n",
      "  df_metrics.loc[len(df_metrics)] = metrics\n"
     ]
    },
    {
     "name": "stdout",
     "output_type": "stream",
     "text": [
      "\n",
      "ticker:  NEXI\n",
      "start scraping metrics for ticker from:  https://finance.yahoo.com/quote/NEXI/key-statistics?p=NEXI\n"
     ]
    },
    {
     "name": "stderr",
     "output_type": "stream",
     "text": [
      "C:\\Users\\bened\\AppData\\Local\\Temp\\ipykernel_31836\\3239735867.py:60: FutureWarning: The behavior of DataFrame concatenation with empty or all-NA entries is deprecated. In a future version, this will no longer exclude empty or all-NA columns when determining the result dtypes. To retain the old behavior, exclude the relevant entries before the concat operation.\n",
      "  df_metrics.loc[len(df_metrics)] = metrics\n"
     ]
    },
    {
     "name": "stdout",
     "output_type": "stream",
     "text": [
      "\n",
      "ticker:  UPST\n",
      "start scraping metrics for ticker from:  https://finance.yahoo.com/quote/UPST/key-statistics?p=UPST\n"
     ]
    },
    {
     "name": "stderr",
     "output_type": "stream",
     "text": [
      "C:\\Users\\bened\\AppData\\Local\\Temp\\ipykernel_31836\\3239735867.py:60: FutureWarning: The behavior of DataFrame concatenation with empty or all-NA entries is deprecated. In a future version, this will no longer exclude empty or all-NA columns when determining the result dtypes. To retain the old behavior, exclude the relevant entries before the concat operation.\n",
      "  df_metrics.loc[len(df_metrics)] = metrics\n"
     ]
    },
    {
     "name": "stdout",
     "output_type": "stream",
     "text": [
      "\n",
      "ticker:  INTC\n",
      "start scraping metrics for ticker from:  https://finance.yahoo.com/quote/INTC/key-statistics?p=INTC\n",
      "\n",
      "ticker:  DELL\n",
      "start scraping metrics for ticker from:  https://finance.yahoo.com/quote/DELL/key-statistics?p=DELL\n"
     ]
    },
    {
     "name": "stderr",
     "output_type": "stream",
     "text": [
      "C:\\Users\\bened\\AppData\\Local\\Temp\\ipykernel_31836\\3239735867.py:60: FutureWarning: The behavior of DataFrame concatenation with empty or all-NA entries is deprecated. In a future version, this will no longer exclude empty or all-NA columns when determining the result dtypes. To retain the old behavior, exclude the relevant entries before the concat operation.\n",
      "  df_metrics.loc[len(df_metrics)] = metrics\n"
     ]
    },
    {
     "name": "stdout",
     "output_type": "stream",
     "text": [
      "\n",
      "ticker:  IOT\n",
      "start scraping metrics for ticker from:  https://finance.yahoo.com/quote/IOT/key-statistics?p=IOT\n"
     ]
    },
    {
     "name": "stderr",
     "output_type": "stream",
     "text": [
      "C:\\Users\\bened\\AppData\\Local\\Temp\\ipykernel_31836\\3239735867.py:60: FutureWarning: The behavior of DataFrame concatenation with empty or all-NA entries is deprecated. In a future version, this will no longer exclude empty or all-NA columns when determining the result dtypes. To retain the old behavior, exclude the relevant entries before the concat operation.\n",
      "  df_metrics.loc[len(df_metrics)] = metrics\n"
     ]
    },
    {
     "name": "stdout",
     "output_type": "stream",
     "text": [
      "\n",
      "ticker:  MSFT\n",
      "start scraping metrics for ticker from:  https://finance.yahoo.com/quote/MSFT/key-statistics?p=MSFT\n",
      "\n",
      "ticker:  GGE\n",
      "start scraping metrics for ticker from:  https://finance.yahoo.com/quote/GGE/key-statistics?p=GGE\n",
      "input not preprocessed:  105.66k\n",
      "input not preprocessed:  -969.66k\n",
      "\n",
      "ticker:  PARA\n"
     ]
    },
    {
     "name": "stderr",
     "output_type": "stream",
     "text": [
      "C:\\Users\\bened\\AppData\\Local\\Temp\\ipykernel_31836\\3239735867.py:60: FutureWarning: The behavior of DataFrame concatenation with empty or all-NA entries is deprecated. In a future version, this will no longer exclude empty or all-NA columns when determining the result dtypes. To retain the old behavior, exclude the relevant entries before the concat operation.\n",
      "  df_metrics.loc[len(df_metrics)] = metrics\n"
     ]
    },
    {
     "name": "stdout",
     "output_type": "stream",
     "text": [
      "start scraping metrics for ticker from:  https://finance.yahoo.com/quote/PARA/key-statistics?p=PARA\n",
      "\n",
      "ticker:  DOCU\n",
      "start scraping metrics for ticker from:  https://finance.yahoo.com/quote/DOCU/key-statistics?p=DOCU\n"
     ]
    },
    {
     "name": "stderr",
     "output_type": "stream",
     "text": [
      "C:\\Users\\bened\\AppData\\Local\\Temp\\ipykernel_31836\\3239735867.py:60: FutureWarning: The behavior of DataFrame concatenation with empty or all-NA entries is deprecated. In a future version, this will no longer exclude empty or all-NA columns when determining the result dtypes. To retain the old behavior, exclude the relevant entries before the concat operation.\n",
      "  df_metrics.loc[len(df_metrics)] = metrics\n"
     ]
    },
    {
     "name": "stdout",
     "output_type": "stream",
     "text": [
      "\n",
      "ticker:  VIEW\n",
      "start scraping metrics for ticker from:  https://finance.yahoo.com/quote/VIEW/key-statistics?p=VIEW\n"
     ]
    },
    {
     "name": "stderr",
     "output_type": "stream",
     "text": [
      "C:\\Users\\bened\\AppData\\Local\\Temp\\ipykernel_31836\\3239735867.py:60: FutureWarning: The behavior of DataFrame concatenation with empty or all-NA entries is deprecated. In a future version, this will no longer exclude empty or all-NA columns when determining the result dtypes. To retain the old behavior, exclude the relevant entries before the concat operation.\n",
      "  df_metrics.loc[len(df_metrics)] = metrics\n"
     ]
    },
    {
     "name": "stdout",
     "output_type": "stream",
     "text": [
      "\n",
      "ticker:  HUBC\n",
      "start scraping metrics for ticker from:  https://finance.yahoo.com/quote/HUBC/key-statistics?p=HUBC\n"
     ]
    },
    {
     "name": "stderr",
     "output_type": "stream",
     "text": [
      "C:\\Users\\bened\\AppData\\Local\\Temp\\ipykernel_31836\\3239735867.py:60: FutureWarning: The behavior of DataFrame concatenation with empty or all-NA entries is deprecated. In a future version, this will no longer exclude empty or all-NA columns when determining the result dtypes. To retain the old behavior, exclude the relevant entries before the concat operation.\n",
      "  df_metrics.loc[len(df_metrics)] = metrics\n"
     ]
    },
    {
     "name": "stdout",
     "output_type": "stream",
     "text": [
      "\n",
      "ticker:  COIN\n",
      "start scraping metrics for ticker from:  https://finance.yahoo.com/quote/COIN/key-statistics?p=COIN\n"
     ]
    },
    {
     "name": "stderr",
     "output_type": "stream",
     "text": [
      "C:\\Users\\bened\\AppData\\Local\\Temp\\ipykernel_31836\\3239735867.py:60: FutureWarning: The behavior of DataFrame concatenation with empty or all-NA entries is deprecated. In a future version, this will no longer exclude empty or all-NA columns when determining the result dtypes. To retain the old behavior, exclude the relevant entries before the concat operation.\n",
      "  df_metrics.loc[len(df_metrics)] = metrics\n"
     ]
    },
    {
     "name": "stdout",
     "output_type": "stream",
     "text": [
      "\n",
      "ticker:  BIOR\n",
      "start scraping metrics for ticker from:  https://finance.yahoo.com/quote/BIOR/key-statistics?p=BIOR\n"
     ]
    },
    {
     "name": "stderr",
     "output_type": "stream",
     "text": [
      "C:\\Users\\bened\\AppData\\Local\\Temp\\ipykernel_31836\\3239735867.py:60: FutureWarning: The behavior of DataFrame concatenation with empty or all-NA entries is deprecated. In a future version, this will no longer exclude empty or all-NA columns when determining the result dtypes. To retain the old behavior, exclude the relevant entries before the concat operation.\n",
      "  df_metrics.loc[len(df_metrics)] = metrics\n"
     ]
    },
    {
     "name": "stdout",
     "output_type": "stream",
     "text": [
      "\n",
      "ticker:  LULU\n",
      "start scraping metrics for ticker from:  https://finance.yahoo.com/quote/LULU/key-statistics?p=LULU\n"
     ]
    },
    {
     "name": "stderr",
     "output_type": "stream",
     "text": [
      "C:\\Users\\bened\\AppData\\Local\\Temp\\ipykernel_31836\\3239735867.py:60: FutureWarning: The behavior of DataFrame concatenation with empty or all-NA entries is deprecated. In a future version, this will no longer exclude empty or all-NA columns when determining the result dtypes. To retain the old behavior, exclude the relevant entries before the concat operation.\n",
      "  df_metrics.loc[len(df_metrics)] = metrics\n"
     ]
    },
    {
     "name": "stdout",
     "output_type": "stream",
     "text": [
      "\n",
      "ticker:  SMCI\n",
      "start scraping metrics for ticker from:  https://finance.yahoo.com/quote/SMCI/key-statistics?p=SMCI\n"
     ]
    },
    {
     "name": "stderr",
     "output_type": "stream",
     "text": [
      "C:\\Users\\bened\\AppData\\Local\\Temp\\ipykernel_31836\\3239735867.py:60: FutureWarning: The behavior of DataFrame concatenation with empty or all-NA entries is deprecated. In a future version, this will no longer exclude empty or all-NA columns when determining the result dtypes. To retain the old behavior, exclude the relevant entries before the concat operation.\n",
      "  df_metrics.loc[len(df_metrics)] = metrics\n"
     ]
    },
    {
     "name": "stdout",
     "output_type": "stream",
     "text": [
      "\n",
      "ticker:  RIOT\n",
      "start scraping metrics for ticker from:  https://finance.yahoo.com/quote/RIOT/key-statistics?p=RIOT\n"
     ]
    },
    {
     "name": "stderr",
     "output_type": "stream",
     "text": [
      "C:\\Users\\bened\\AppData\\Local\\Temp\\ipykernel_31836\\3239735867.py:60: FutureWarning: The behavior of DataFrame concatenation with empty or all-NA entries is deprecated. In a future version, this will no longer exclude empty or all-NA columns when determining the result dtypes. To retain the old behavior, exclude the relevant entries before the concat operation.\n",
      "  df_metrics.loc[len(df_metrics)] = metrics\n"
     ]
    },
    {
     "name": "stdout",
     "output_type": "stream",
     "text": [
      "\n",
      "finished scraping\n"
     ]
    }
   ],
   "source": [
    "options = webdriver.ChromeOptions()\n",
    "options.add_argument('--headless') # for not displaying the graphical environment, shows virtualized browser without GUI\n",
    "options.add_argument('--no-sandbox') # so that it can access machine resources, blocking sandbox processes it can access whatever\n",
    "options.add_argument('--disable-dev-shm-usage')  # colab does not have enough memory\n",
    "# open it, go to a website, and get results\n",
    "driver = webdriver.Chrome(options=options)\n",
    "\n",
    "url = \"https://finance.yahoo.com/\"\n",
    "driver.get(url)\n",
    "\n",
    "try:\n",
    "    # Accept cookies by clicking the button with the specified ID\n",
    "    print(\"accept cookies\")\n",
    "    iframe = driver.find_element(By.CLASS_NAME, 'con-wizard')\n",
    "    accept_cookies_button = iframe.find_element(By.CLASS_NAME, 'accept-all')\n",
    "    accept_cookies_button.click()\n",
    "    \n",
    "    \n",
    "    print(\"call trending tickers\")\n",
    "    # call url with tickers:\n",
    "    driver.get(\"https://finance.yahoo.com/trending-tickers\")\n",
    "    \n",
    "    tab = driver.find_element(By.TAG_NAME, 'tbody')\n",
    "    tickers = []\n",
    "    assert(tab)\n",
    "    elements = tab.find_elements(By.TAG_NAME, 'tr')\n",
    "    \n",
    "    print(\"amount of tickers: \", len(elements))\n",
    "    #elements = elements[:5]  # TODO, take all tickers (only for testing)\n",
    "    \n",
    "    \n",
    "    links = [e.find_element(By.TAG_NAME, 'a') for e in elements]\n",
    "\n",
    "    for l in links:\n",
    "        tickers.append(Tickerinfo(l.text, l.get_attribute(\"href\")))\n",
    "    \n",
    "    print(\"getting tickers finished\")\n",
    "    \n",
    "    required_metrics = Metrics().from_slides()\n",
    "    \n",
    "    df_metrics = pd.DataFrame(columns=[get_key_from_metric_label(label) for label in required_metrics])\n",
    "    \n",
    "    # call metric-webpage for each ticker and scrape values\n",
    "    for ticker in tickers:\n",
    "        #if not ticker.name == \"ES=F\":\n",
    "        #    continue\n",
    "            \n",
    "        tickername = ticker.name\n",
    "        print()\n",
    "        print(\"ticker: \", tickername)\n",
    "        url = \"https://finance.yahoo.com/quote/\"+tickername+\"/key-statistics?p=\"+tickername\n",
    "        driver.get(url)\n",
    "\n",
    "        metrics = [tickername]\n",
    "         # get metric values from website\n",
    "        print(\"start scraping metrics for ticker from: \", driver.current_url)\n",
    "        metrics = add_metrics_from_site(driver, metrics, required_metrics)\n",
    "\n",
    "         # add metrics as new last row to df\n",
    "        df_metrics.loc[len(df_metrics)] = metrics\n",
    "\n",
    "    #print(df_metrics)\n",
    "\n",
    "finally:\n",
    "    # Close the WebDriver\n",
    "    driver.quit()\n",
    "    \n",
    "print()\n",
    "print(\"finished scraping\")"
   ]
  },
  {
   "cell_type": "code",
   "execution_count": 35,
   "id": "577a3ea1",
   "metadata": {},
   "outputs": [
    {
     "name": "stdout",
     "output_type": "stream",
     "text": [
      "False\n"
     ]
    }
   ],
   "source": [
    "#x = float('3.7v8') #.isnumeric()\n",
    "x = '3,78'.replace('.','',1).isdigit()\n",
    "print(x)"
   ]
  },
  {
   "cell_type": "code",
   "execution_count": null,
   "id": "e59a252b",
   "metadata": {},
   "outputs": [],
   "source": [
    "# done: postprocess data within dataframe\n",
    "\n",
    "# todo: import NASDAQ-100 tickers\n",
    "\n",
    "# scrape dividend data for tickers:\n",
    "\n",
    "# https://finance.yahoo.com/quote/AAPL/history?period1=1669797901&period2=1701333901&interval=capitalGain%7Cdiv%7Csplit&filter=div&frequency=1d&includeAdjustedClose=true"
   ]
  },
  {
   "cell_type": "code",
   "execution_count": null,
   "id": "1ddd9004",
   "metadata": {},
   "outputs": [],
   "source": [
    "relative_column = \"Forward_Annual_Dividend_Yield\"\n",
    "\n",
    "df_metrics[\"Payout_Ratio\"]\n"
   ]
  },
  {
   "cell_type": "code",
   "execution_count": 48,
   "id": "142255dd",
   "metadata": {},
   "outputs": [
    {
     "data": {
      "text/html": [
       "<div>\n",
       "<style scoped>\n",
       "    .dataframe tbody tr th:only-of-type {\n",
       "        vertical-align: middle;\n",
       "    }\n",
       "\n",
       "    .dataframe tbody tr th {\n",
       "        vertical-align: top;\n",
       "    }\n",
       "\n",
       "    .dataframe thead th {\n",
       "        text-align: right;\n",
       "    }\n",
       "</style>\n",
       "<table border=\"1\" class=\"dataframe\">\n",
       "  <thead>\n",
       "    <tr style=\"text-align: right;\">\n",
       "      <th></th>\n",
       "      <th>Ticker</th>\n",
       "      <th>Forward_Annual_Dividend_Yield</th>\n",
       "      <th>Trailing_Annual_Dividend_Yield</th>\n",
       "      <th>5_Year_Average_Dividend_Yield</th>\n",
       "      <th>Payout_Ratio</th>\n",
       "      <th>Profit_Margin</th>\n",
       "      <th>Return_on_Equity</th>\n",
       "      <th>Total_Cash_(mrq)</th>\n",
       "      <th>Total_Debt/Equity_(mrq)</th>\n",
       "      <th>Operating_Cash_Flow</th>\n",
       "      <th>Levered_Free_Cash_Flow</th>\n",
       "    </tr>\n",
       "  </thead>\n",
       "  <tbody>\n",
       "    <tr>\n",
       "      <th>0</th>\n",
       "      <td>PFE</td>\n",
       "      <td>5.38</td>\n",
       "      <td>5.35</td>\n",
       "      <td>3.78</td>\n",
       "      <td>89.07</td>\n",
       "      <td>15.29</td>\n",
       "      <td>11.06</td>\n",
       "      <td>4.418000e+10</td>\n",
       "      <td>65.98</td>\n",
       "      <td>1.204000e+10</td>\n",
       "      <td>-4.702500e+08</td>\n",
       "    </tr>\n",
       "    <tr>\n",
       "      <th>1</th>\n",
       "      <td>PATH</td>\n",
       "      <td>NaN</td>\n",
       "      <td>0.00</td>\n",
       "      <td>NaN</td>\n",
       "      <td>0.00</td>\n",
       "      <td>-12.51</td>\n",
       "      <td>-7.93</td>\n",
       "      <td>1.820000e+09</td>\n",
       "      <td>2.94</td>\n",
       "      <td>2.474400e+08</td>\n",
       "      <td>3.760400e+08</td>\n",
       "    </tr>\n",
       "    <tr>\n",
       "      <th>2</th>\n",
       "      <td>ULTA</td>\n",
       "      <td>NaN</td>\n",
       "      <td>0.00</td>\n",
       "      <td>NaN</td>\n",
       "      <td>0.00</td>\n",
       "      <td>11.37</td>\n",
       "      <td>62.64</td>\n",
       "      <td>1.218100e+08</td>\n",
       "      <td>103.52</td>\n",
       "      <td>1.270000e+09</td>\n",
       "      <td>6.263500e+08</td>\n",
       "    </tr>\n",
       "    <tr>\n",
       "      <th>3</th>\n",
       "      <td>MRVL</td>\n",
       "      <td>0.43</td>\n",
       "      <td>0.11</td>\n",
       "      <td>0.65</td>\n",
       "      <td>11.01</td>\n",
       "      <td>-10.11</td>\n",
       "      <td>-3.61</td>\n",
       "      <td>7.256000e+08</td>\n",
       "      <td>27.48</td>\n",
       "      <td>1.180000e+09</td>\n",
       "      <td>1.500000e+09</td>\n",
       "    </tr>\n",
       "    <tr>\n",
       "      <th>4</th>\n",
       "      <td>ESTC</td>\n",
       "      <td>NaN</td>\n",
       "      <td>0.00</td>\n",
       "      <td>NaN</td>\n",
       "      <td>0.00</td>\n",
       "      <td>-19.33</td>\n",
       "      <td>-53.43</td>\n",
       "      <td>9.570900e+08</td>\n",
       "      <td>143.65</td>\n",
       "      <td>8.318000e+07</td>\n",
       "      <td>2.662200e+08</td>\n",
       "    </tr>\n",
       "    <tr>\n",
       "      <th>5</th>\n",
       "      <td>BABA</td>\n",
       "      <td>NaN</td>\n",
       "      <td>0.00</td>\n",
       "      <td>NaN</td>\n",
       "      <td>0.00</td>\n",
       "      <td>14.50</td>\n",
       "      <td>11.31</td>\n",
       "      <td>5.743600e+11</td>\n",
       "      <td>16.96</td>\n",
       "      <td>2.133100e+11</td>\n",
       "      <td>1.296500e+11</td>\n",
       "    </tr>\n",
       "    <tr>\n",
       "      <th>6</th>\n",
       "      <td>ALT</td>\n",
       "      <td>NaN</td>\n",
       "      <td>0.00</td>\n",
       "      <td>NaN</td>\n",
       "      <td>0.00</td>\n",
       "      <td>0.00</td>\n",
       "      <td>-44.15</td>\n",
       "      <td>1.407800e+08</td>\n",
       "      <td>0.52</td>\n",
       "      <td>-7.658000e+07</td>\n",
       "      <td>-5.197000e+07</td>\n",
       "    </tr>\n",
       "    <tr>\n",
       "      <th>7</th>\n",
       "      <td>U</td>\n",
       "      <td>NaN</td>\n",
       "      <td>0.00</td>\n",
       "      <td>NaN</td>\n",
       "      <td>0.00</td>\n",
       "      <td>-42.31</td>\n",
       "      <td>-30.35</td>\n",
       "      <td>1.510000e+09</td>\n",
       "      <td>82.55</td>\n",
       "      <td>1.135400e+08</td>\n",
       "      <td>4.924300e+08</td>\n",
       "    </tr>\n",
       "    <tr>\n",
       "      <th>8</th>\n",
       "      <td>BTC-USD</td>\n",
       "      <td>NaN</td>\n",
       "      <td>NaN</td>\n",
       "      <td>NaN</td>\n",
       "      <td>NaN</td>\n",
       "      <td>NaN</td>\n",
       "      <td>NaN</td>\n",
       "      <td>NaN</td>\n",
       "      <td>NaN</td>\n",
       "      <td>NaN</td>\n",
       "      <td>NaN</td>\n",
       "    </tr>\n",
       "    <tr>\n",
       "      <th>9</th>\n",
       "      <td>MARA</td>\n",
       "      <td>NaN</td>\n",
       "      <td>0.00</td>\n",
       "      <td>NaN</td>\n",
       "      <td>0.00</td>\n",
       "      <td>-133.72</td>\n",
       "      <td>-42.13</td>\n",
       "      <td>1.012100e+08</td>\n",
       "      <td>31.94</td>\n",
       "      <td>-3.172200e+08</td>\n",
       "      <td>-2.067500e+08</td>\n",
       "    </tr>\n",
       "    <tr>\n",
       "      <th>10</th>\n",
       "      <td>HCDI</td>\n",
       "      <td>NaN</td>\n",
       "      <td>0.00</td>\n",
       "      <td>NaN</td>\n",
       "      <td>0.00</td>\n",
       "      <td>-96.94</td>\n",
       "      <td>-54.70</td>\n",
       "      <td>8.050000e+06</td>\n",
       "      <td>308.87</td>\n",
       "      <td>-4.703000e+07</td>\n",
       "      <td>-5.150000e+06</td>\n",
       "    </tr>\n",
       "    <tr>\n",
       "      <th>11</th>\n",
       "      <td>CLSK</td>\n",
       "      <td>NaN</td>\n",
       "      <td>0.00</td>\n",
       "      <td>NaN</td>\n",
       "      <td>0.00</td>\n",
       "      <td>-73.22</td>\n",
       "      <td>-21.20</td>\n",
       "      <td>2.994000e+07</td>\n",
       "      <td>2.47</td>\n",
       "      <td>3.251000e+07</td>\n",
       "      <td>3.495000e+07</td>\n",
       "    </tr>\n",
       "    <tr>\n",
       "      <th>12</th>\n",
       "      <td>AFRM</td>\n",
       "      <td>NaN</td>\n",
       "      <td>0.00</td>\n",
       "      <td>NaN</td>\n",
       "      <td>0.00</td>\n",
       "      <td>-52.58</td>\n",
       "      <td>-35.31</td>\n",
       "      <td>1.170000e+09</td>\n",
       "      <td>221.37</td>\n",
       "      <td>5.987000e+07</td>\n",
       "      <td>-2.044900e+08</td>\n",
       "    </tr>\n",
       "    <tr>\n",
       "      <th>13</th>\n",
       "      <td>WISH</td>\n",
       "      <td>NaN</td>\n",
       "      <td>0.00</td>\n",
       "      <td>NaN</td>\n",
       "      <td>0.00</td>\n",
       "      <td>-100.56</td>\n",
       "      <td>-84.87</td>\n",
       "      <td>4.450000e+08</td>\n",
       "      <td>5.15</td>\n",
       "      <td>-3.750000e+08</td>\n",
       "      <td>-2.330000e+08</td>\n",
       "    </tr>\n",
       "    <tr>\n",
       "      <th>14</th>\n",
       "      <td>NEXI</td>\n",
       "      <td>NaN</td>\n",
       "      <td>0.00</td>\n",
       "      <td>NaN</td>\n",
       "      <td>0.00</td>\n",
       "      <td>0.00</td>\n",
       "      <td>-156.80</td>\n",
       "      <td>9.000000e+06</td>\n",
       "      <td>7.32</td>\n",
       "      <td>-3.672000e+07</td>\n",
       "      <td>-2.110000e+07</td>\n",
       "    </tr>\n",
       "    <tr>\n",
       "      <th>15</th>\n",
       "      <td>UPST</td>\n",
       "      <td>NaN</td>\n",
       "      <td>0.00</td>\n",
       "      <td>NaN</td>\n",
       "      <td>0.00</td>\n",
       "      <td>-46.38</td>\n",
       "      <td>-37.22</td>\n",
       "      <td>5.165800e+08</td>\n",
       "      <td>195.16</td>\n",
       "      <td>-2.696600e+08</td>\n",
       "      <td>-2.154400e+08</td>\n",
       "    </tr>\n",
       "    <tr>\n",
       "      <th>16</th>\n",
       "      <td>INTC</td>\n",
       "      <td>1.12</td>\n",
       "      <td>2.19</td>\n",
       "      <td>2.99</td>\n",
       "      <td>75.26</td>\n",
       "      <td>-3.11</td>\n",
       "      <td>-1.60</td>\n",
       "      <td>2.503000e+10</td>\n",
       "      <td>46.25</td>\n",
       "      <td>1.455000e+10</td>\n",
       "      <td>-4.480000e+09</td>\n",
       "    </tr>\n",
       "    <tr>\n",
       "      <th>17</th>\n",
       "      <td>DELL</td>\n",
       "      <td>1.95</td>\n",
       "      <td>0.43</td>\n",
       "      <td>NaN</td>\n",
       "      <td>39.89</td>\n",
       "      <td>2.92</td>\n",
       "      <td>NaN</td>\n",
       "      <td>8.300000e+09</td>\n",
       "      <td>NaN</td>\n",
       "      <td>9.860000e+09</td>\n",
       "      <td>1.280000e+09</td>\n",
       "    </tr>\n",
       "    <tr>\n",
       "      <th>18</th>\n",
       "      <td>IOT</td>\n",
       "      <td>NaN</td>\n",
       "      <td>0.00</td>\n",
       "      <td>NaN</td>\n",
       "      <td>0.00</td>\n",
       "      <td>-26.77</td>\n",
       "      <td>-24.01</td>\n",
       "      <td>6.597600e+08</td>\n",
       "      <td>10.92</td>\n",
       "      <td>2.569000e+07</td>\n",
       "      <td>9.395000e+07</td>\n",
       "    </tr>\n",
       "    <tr>\n",
       "      <th>19</th>\n",
       "      <td>MSFT</td>\n",
       "      <td>0.79</td>\n",
       "      <td>0.74</td>\n",
       "      <td>1.01</td>\n",
       "      <td>26.36</td>\n",
       "      <td>35.31</td>\n",
       "      <td>39.11</td>\n",
       "      <td>1.439500e+11</td>\n",
       "      <td>47.88</td>\n",
       "      <td>9.497000e+10</td>\n",
       "      <td>5.042000e+10</td>\n",
       "    </tr>\n",
       "    <tr>\n",
       "      <th>20</th>\n",
       "      <td>GGE</td>\n",
       "      <td>NaN</td>\n",
       "      <td>0.00</td>\n",
       "      <td>NaN</td>\n",
       "      <td>0.00</td>\n",
       "      <td>0.00</td>\n",
       "      <td>-163.25</td>\n",
       "      <td>NaN</td>\n",
       "      <td>315.90</td>\n",
       "      <td>NaN</td>\n",
       "      <td>-5.546000e+07</td>\n",
       "    </tr>\n",
       "    <tr>\n",
       "      <th>21</th>\n",
       "      <td>PARA</td>\n",
       "      <td>1.39</td>\n",
       "      <td>4.04</td>\n",
       "      <td>3.19</td>\n",
       "      <td>93.20</td>\n",
       "      <td>-3.65</td>\n",
       "      <td>-5.91</td>\n",
       "      <td>1.800000e+09</td>\n",
       "      <td>75.84</td>\n",
       "      <td>-7.600000e+07</td>\n",
       "      <td>1.494000e+10</td>\n",
       "    </tr>\n",
       "    <tr>\n",
       "      <th>22</th>\n",
       "      <td>DOCU</td>\n",
       "      <td>NaN</td>\n",
       "      <td>0.00</td>\n",
       "      <td>NaN</td>\n",
       "      <td>0.00</td>\n",
       "      <td>-0.64</td>\n",
       "      <td>-2.72</td>\n",
       "      <td>1.440000e+09</td>\n",
       "      <td>103.67</td>\n",
       "      <td>6.342400e+08</td>\n",
       "      <td>9.691700e+08</td>\n",
       "    </tr>\n",
       "    <tr>\n",
       "      <th>23</th>\n",
       "      <td>VIEW</td>\n",
       "      <td>NaN</td>\n",
       "      <td>0.00</td>\n",
       "      <td>NaN</td>\n",
       "      <td>0.00</td>\n",
       "      <td>0.00</td>\n",
       "      <td>-387.98</td>\n",
       "      <td>5.062000e+07</td>\n",
       "      <td>NaN</td>\n",
       "      <td>-1.950900e+08</td>\n",
       "      <td>-1.380200e+08</td>\n",
       "    </tr>\n",
       "    <tr>\n",
       "      <th>24</th>\n",
       "      <td>HUBC</td>\n",
       "      <td>NaN</td>\n",
       "      <td>0.00</td>\n",
       "      <td>NaN</td>\n",
       "      <td>0.00</td>\n",
       "      <td>-102.32</td>\n",
       "      <td>-214.51</td>\n",
       "      <td>3.990000e+06</td>\n",
       "      <td>225.70</td>\n",
       "      <td>-2.343000e+07</td>\n",
       "      <td>1.098000e+07</td>\n",
       "    </tr>\n",
       "    <tr>\n",
       "      <th>25</th>\n",
       "      <td>COIN</td>\n",
       "      <td>NaN</td>\n",
       "      <td>0.00</td>\n",
       "      <td>NaN</td>\n",
       "      <td>0.00</td>\n",
       "      <td>-28.00</td>\n",
       "      <td>-12.74</td>\n",
       "      <td>5.100000e+09</td>\n",
       "      <td>54.10</td>\n",
       "      <td>1.827000e+08</td>\n",
       "      <td>4.610300e+08</td>\n",
       "    </tr>\n",
       "    <tr>\n",
       "      <th>26</th>\n",
       "      <td>BIOR</td>\n",
       "      <td>NaN</td>\n",
       "      <td>0.00</td>\n",
       "      <td>NaN</td>\n",
       "      <td>0.00</td>\n",
       "      <td>0.00</td>\n",
       "      <td>NaN</td>\n",
       "      <td>1.257000e+07</td>\n",
       "      <td>NaN</td>\n",
       "      <td>-4.577000e+07</td>\n",
       "      <td>1.606000e+07</td>\n",
       "    </tr>\n",
       "    <tr>\n",
       "      <th>27</th>\n",
       "      <td>LULU</td>\n",
       "      <td>NaN</td>\n",
       "      <td>0.00</td>\n",
       "      <td>NaN</td>\n",
       "      <td>0.00</td>\n",
       "      <td>11.40</td>\n",
       "      <td>31.52</td>\n",
       "      <td>1.110000e+09</td>\n",
       "      <td>33.78</td>\n",
       "      <td>1.630000e+09</td>\n",
       "      <td>8.095100e+08</td>\n",
       "    </tr>\n",
       "    <tr>\n",
       "      <th>28</th>\n",
       "      <td>SMCI</td>\n",
       "      <td>NaN</td>\n",
       "      <td>0.00</td>\n",
       "      <td>NaN</td>\n",
       "      <td>0.00</td>\n",
       "      <td>8.29</td>\n",
       "      <td>32.32</td>\n",
       "      <td>5.432600e+08</td>\n",
       "      <td>7.96</td>\n",
       "      <td>6.204600e+08</td>\n",
       "      <td>4.726400e+08</td>\n",
       "    </tr>\n",
       "    <tr>\n",
       "      <th>29</th>\n",
       "      <td>RIOT</td>\n",
       "      <td>NaN</td>\n",
       "      <td>0.00</td>\n",
       "      <td>NaN</td>\n",
       "      <td>0.00</td>\n",
       "      <td>-110.24</td>\n",
       "      <td>-21.88</td>\n",
       "      <td>2.901100e+08</td>\n",
       "      <td>1.63</td>\n",
       "      <td>-1.046000e+07</td>\n",
       "      <td>-2.421800e+08</td>\n",
       "    </tr>\n",
       "  </tbody>\n",
       "</table>\n",
       "</div>"
      ],
      "text/plain": [
       "     Ticker  Forward_Annual_Dividend_Yield  Trailing_Annual_Dividend_Yield  \\\n",
       "0       PFE                           5.38                            5.35   \n",
       "1      PATH                            NaN                            0.00   \n",
       "2      ULTA                            NaN                            0.00   \n",
       "3      MRVL                           0.43                            0.11   \n",
       "4      ESTC                            NaN                            0.00   \n",
       "5      BABA                            NaN                            0.00   \n",
       "6       ALT                            NaN                            0.00   \n",
       "7         U                            NaN                            0.00   \n",
       "8   BTC-USD                            NaN                             NaN   \n",
       "9      MARA                            NaN                            0.00   \n",
       "10     HCDI                            NaN                            0.00   \n",
       "11     CLSK                            NaN                            0.00   \n",
       "12     AFRM                            NaN                            0.00   \n",
       "13     WISH                            NaN                            0.00   \n",
       "14     NEXI                            NaN                            0.00   \n",
       "15     UPST                            NaN                            0.00   \n",
       "16     INTC                           1.12                            2.19   \n",
       "17     DELL                           1.95                            0.43   \n",
       "18      IOT                            NaN                            0.00   \n",
       "19     MSFT                           0.79                            0.74   \n",
       "20      GGE                            NaN                            0.00   \n",
       "21     PARA                           1.39                            4.04   \n",
       "22     DOCU                            NaN                            0.00   \n",
       "23     VIEW                            NaN                            0.00   \n",
       "24     HUBC                            NaN                            0.00   \n",
       "25     COIN                            NaN                            0.00   \n",
       "26     BIOR                            NaN                            0.00   \n",
       "27     LULU                            NaN                            0.00   \n",
       "28     SMCI                            NaN                            0.00   \n",
       "29     RIOT                            NaN                            0.00   \n",
       "\n",
       "    5_Year_Average_Dividend_Yield  Payout_Ratio  Profit_Margin  \\\n",
       "0                            3.78         89.07          15.29   \n",
       "1                             NaN          0.00         -12.51   \n",
       "2                             NaN          0.00          11.37   \n",
       "3                            0.65         11.01         -10.11   \n",
       "4                             NaN          0.00         -19.33   \n",
       "5                             NaN          0.00          14.50   \n",
       "6                             NaN          0.00           0.00   \n",
       "7                             NaN          0.00         -42.31   \n",
       "8                             NaN           NaN            NaN   \n",
       "9                             NaN          0.00        -133.72   \n",
       "10                            NaN          0.00         -96.94   \n",
       "11                            NaN          0.00         -73.22   \n",
       "12                            NaN          0.00         -52.58   \n",
       "13                            NaN          0.00        -100.56   \n",
       "14                            NaN          0.00           0.00   \n",
       "15                            NaN          0.00         -46.38   \n",
       "16                           2.99         75.26          -3.11   \n",
       "17                            NaN         39.89           2.92   \n",
       "18                            NaN          0.00         -26.77   \n",
       "19                           1.01         26.36          35.31   \n",
       "20                            NaN          0.00           0.00   \n",
       "21                           3.19         93.20          -3.65   \n",
       "22                            NaN          0.00          -0.64   \n",
       "23                            NaN          0.00           0.00   \n",
       "24                            NaN          0.00        -102.32   \n",
       "25                            NaN          0.00         -28.00   \n",
       "26                            NaN          0.00           0.00   \n",
       "27                            NaN          0.00          11.40   \n",
       "28                            NaN          0.00           8.29   \n",
       "29                            NaN          0.00        -110.24   \n",
       "\n",
       "    Return_on_Equity  Total_Cash_(mrq)  Total_Debt/Equity_(mrq)  \\\n",
       "0              11.06      4.418000e+10                    65.98   \n",
       "1              -7.93      1.820000e+09                     2.94   \n",
       "2              62.64      1.218100e+08                   103.52   \n",
       "3              -3.61      7.256000e+08                    27.48   \n",
       "4             -53.43      9.570900e+08                   143.65   \n",
       "5              11.31      5.743600e+11                    16.96   \n",
       "6             -44.15      1.407800e+08                     0.52   \n",
       "7             -30.35      1.510000e+09                    82.55   \n",
       "8                NaN               NaN                      NaN   \n",
       "9             -42.13      1.012100e+08                    31.94   \n",
       "10            -54.70      8.050000e+06                   308.87   \n",
       "11            -21.20      2.994000e+07                     2.47   \n",
       "12            -35.31      1.170000e+09                   221.37   \n",
       "13            -84.87      4.450000e+08                     5.15   \n",
       "14           -156.80      9.000000e+06                     7.32   \n",
       "15            -37.22      5.165800e+08                   195.16   \n",
       "16             -1.60      2.503000e+10                    46.25   \n",
       "17               NaN      8.300000e+09                      NaN   \n",
       "18            -24.01      6.597600e+08                    10.92   \n",
       "19             39.11      1.439500e+11                    47.88   \n",
       "20           -163.25               NaN                   315.90   \n",
       "21             -5.91      1.800000e+09                    75.84   \n",
       "22             -2.72      1.440000e+09                   103.67   \n",
       "23           -387.98      5.062000e+07                      NaN   \n",
       "24           -214.51      3.990000e+06                   225.70   \n",
       "25            -12.74      5.100000e+09                    54.10   \n",
       "26               NaN      1.257000e+07                      NaN   \n",
       "27             31.52      1.110000e+09                    33.78   \n",
       "28             32.32      5.432600e+08                     7.96   \n",
       "29            -21.88      2.901100e+08                     1.63   \n",
       "\n",
       "    Operating_Cash_Flow  Levered_Free_Cash_Flow  \n",
       "0          1.204000e+10           -4.702500e+08  \n",
       "1          2.474400e+08            3.760400e+08  \n",
       "2          1.270000e+09            6.263500e+08  \n",
       "3          1.180000e+09            1.500000e+09  \n",
       "4          8.318000e+07            2.662200e+08  \n",
       "5          2.133100e+11            1.296500e+11  \n",
       "6         -7.658000e+07           -5.197000e+07  \n",
       "7          1.135400e+08            4.924300e+08  \n",
       "8                   NaN                     NaN  \n",
       "9         -3.172200e+08           -2.067500e+08  \n",
       "10        -4.703000e+07           -5.150000e+06  \n",
       "11         3.251000e+07            3.495000e+07  \n",
       "12         5.987000e+07           -2.044900e+08  \n",
       "13        -3.750000e+08           -2.330000e+08  \n",
       "14        -3.672000e+07           -2.110000e+07  \n",
       "15        -2.696600e+08           -2.154400e+08  \n",
       "16         1.455000e+10           -4.480000e+09  \n",
       "17         9.860000e+09            1.280000e+09  \n",
       "18         2.569000e+07            9.395000e+07  \n",
       "19         9.497000e+10            5.042000e+10  \n",
       "20                  NaN           -5.546000e+07  \n",
       "21        -7.600000e+07            1.494000e+10  \n",
       "22         6.342400e+08            9.691700e+08  \n",
       "23        -1.950900e+08           -1.380200e+08  \n",
       "24        -2.343000e+07            1.098000e+07  \n",
       "25         1.827000e+08            4.610300e+08  \n",
       "26        -4.577000e+07            1.606000e+07  \n",
       "27         1.630000e+09            8.095100e+08  \n",
       "28         6.204600e+08            4.726400e+08  \n",
       "29        -1.046000e+07           -2.421800e+08  "
      ]
     },
     "execution_count": 48,
     "metadata": {},
     "output_type": "execute_result"
    }
   ],
   "source": [
    "df_metrics"
   ]
  },
  {
   "cell_type": "code",
   "execution_count": null,
   "id": "1b7c69bf",
   "metadata": {
    "scrolled": false
   },
   "outputs": [],
   "source": []
  },
  {
   "cell_type": "code",
   "execution_count": null,
   "id": "02d3ea0e",
   "metadata": {},
   "outputs": [],
   "source": [
    "\n"
   ]
  },
  {
   "cell_type": "code",
   "execution_count": 56,
   "id": "75faa7e9",
   "metadata": {},
   "outputs": [],
   "source": [
    "\n",
    "df_metrics.to_csv('./../Dataset/data.csv')"
   ]
  },
  {
   "cell_type": "code",
   "execution_count": null,
   "id": "00d8f172",
   "metadata": {},
   "outputs": [],
   "source": []
  }
 ],
 "metadata": {
  "kernelspec": {
   "display_name": "Python 3 (ipykernel)",
   "language": "python",
   "name": "python3"
  },
  "language_info": {
   "codemirror_mode": {
    "name": "ipython",
    "version": 3
   },
   "file_extension": ".py",
   "mimetype": "text/x-python",
   "name": "python",
   "nbconvert_exporter": "python",
   "pygments_lexer": "ipython3",
   "version": "3.10.13"
  }
 },
 "nbformat": 4,
 "nbformat_minor": 5
}
